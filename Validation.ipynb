{
 "cells": [
  {
   "cell_type": "code",
   "execution_count": null,
   "metadata": {
    "collapsed": true
   },
   "outputs": [],
   "source": [
    "### Validation du modèle à état"
   ]
  },
  {
   "cell_type": "code",
   "execution_count": 5,
   "metadata": {
    "collapsed": false
   },
   "outputs": [],
   "source": [
    "import cPickle as pickle\n",
    "import matplotlib.pyplot as plt\n",
    "import numpy as np\n",
    "from PlotZone import *"
   ]
  },
  {
   "cell_type": "code",
   "execution_count": 6,
   "metadata": {
    "collapsed": false
   },
   "outputs": [],
   "source": [
    "#affichage chitnis\n",
    "def plot_H1(res):\n",
    "    plt.figure()\n",
    "    times = np.array(range(len(res['H'][0])))\n",
    "    plt.plot(times, res['H'][0], label = 'Sh', color='blue')\n",
    "    plt.plot(times, res['H'][1], label = 'Eh', color='orange')\n",
    "    plt.plot(times, res['H'][2], label = 'Ih', color='red')\n",
    "    plt.plot(times, res['H'][3], label = 'Rh', color='green')\n",
    "    plt.legend(('Sh', 'Eh', 'Ih', 'Rh'), loc = 'best')\n",
    "    #plt.legend(('Eh', 'Ih', 'Rh'), loc = 'upper right')\n",
    "    \n",
    "    axes = plt.gca()\n",
    "    axes.set_xlabel('temps en jours')\n",
    "    axes.set_ylabel('Nombre de personnes')\n",
    "    #plt.xlim(xmin = 0.)\n",
    "    #plt.ylim(ymin = 0.)\n",
    "\n",
    "def plot_V1(res):\n",
    "    \n",
    "    plt.figure()\n",
    "    times = np.array(range(len(res['H'][0])))\n",
    "    plt.plot(times, res['V'][0], label = 'Sv', color='blue')\n",
    "    plt.plot(times, res['V'][1], label = 'Ev', color='orange')\n",
    "    plt.plot(times, res['V'][2], label = 'Iv', color='red')\n",
    "    plt.legend(('Sv', 'Ev', 'Iv'), loc = 'best')\n",
    "    #plt.legend(('Ev', 'Iv'), loc = 'upper right')\n",
    "    \n",
    "    axes = plt.gca()\n",
    "    axes.set_xlabel('temps en jours')\n",
    "    axes.set_ylabel('Nombre de moustiques')\n",
    "    #plt.xlim(xmin = 0.)\n",
    "    #plt.ylim(ymin = 0.)\n",
    "    "
   ]
  },
  {
   "cell_type": "code",
   "execution_count": 7,
   "metadata": {
    "collapsed": true
   },
   "outputs": [],
   "source": [
    "fic1 = \"Validation/modeleChitnis.p\"\n",
    "fh1 = open(fic1)\n",
    "m1 = pickle.load(fh1)\n",
    "fh1.close()\n",
    "\n",
    "fic2 = \"Validation/modeleEtat.p\"\n",
    "fh2 = open(fic2)\n",
    "m2 = pickle.load(fh2)\n",
    "fh2.close()"
   ]
  },
  {
   "cell_type": "code",
   "execution_count": 8,
   "metadata": {
    "collapsed": false
   },
   "outputs": [],
   "source": [
    "%matplotlib qt\n",
    "\n",
    "plot_H1(m1)\n",
    "plot_H(m2.zones['Z1'], \"\")\n",
    "plot_V1(m1)\n",
    "plot_V(m2.zones['Z1'], \"\")"
   ]
  },
  {
   "cell_type": "code",
   "execution_count": null,
   "metadata": {
    "collapsed": true
   },
   "outputs": [],
   "source": []
  }
 ],
 "metadata": {
  "kernelspec": {
   "display_name": "Python 2",
   "language": "python",
   "name": "python2"
  },
  "language_info": {
   "codemirror_mode": {
    "name": "ipython",
    "version": 2
   },
   "file_extension": ".py",
   "mimetype": "text/x-python",
   "name": "python",
   "nbconvert_exporter": "python",
   "pygments_lexer": "ipython2",
   "version": "2.7.13"
  }
 },
 "nbformat": 4,
 "nbformat_minor": 0
}
