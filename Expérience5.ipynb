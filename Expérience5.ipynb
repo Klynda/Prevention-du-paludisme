{
 "cells": [
  {
   "cell_type": "markdown",
   "metadata": {},
   "source": [
    "### Expérience 5 : \n",
    "Montrer que, selon la fréquentation, une épidémie peut provenir d'une zone de plus faible endémicité plutôt que celle à forte endémicité.\n",
    "mettre en évidence :\n",
    "- la faible efficacité d'une prévention basée seulement sur l'endémicité\n",
    "- le bénéfice de connaître les déplacements pour la prévention"
   ]
  },
  {
   "cell_type": "code",
   "execution_count": 1,
   "metadata": {
    "collapsed": false
   },
   "outputs": [
    {
     "name": "stderr",
     "output_type": "stream",
     "text": [
      "/home/khiri/anaconda2/lib/python2.7/site-packages/matplotlib/font_manager.py:273: UserWarning: Matplotlib is building the font cache using fc-list. This may take a moment.\n",
      "  warnings.warn('Matplotlib is building the font cache using fc-list. This may take a moment.')\n"
     ]
    }
   ],
   "source": [
    "import cPickle as pickle\n",
    "from Traces import lireTraces\n",
    "import matplotlib.pyplot as plt\n",
    "import numpy as np\n",
    "from PlotZone import *"
   ]
  },
  {
   "cell_type": "code",
   "execution_count": 10,
   "metadata": {
    "collapsed": false
   },
   "outputs": [
    {
     "data": {
      "text/plain": [
       "<matplotlib.legend.Legend at 0x7fc896722d10>"
      ]
     },
     "execution_count": 10,
     "metadata": {},
     "output_type": "execute_result"
    }
   ],
   "source": [
    "%matplotlib qt\n",
    "#%matplotlib inline\n",
    "\n",
    "path = \"./Experience5/\"\n",
    "\n",
    "fic = path + \"modele.p\"\n",
    "fh = open(fic)\n",
    "m = pickle.load(fh)\n",
    "fh.close()\n",
    "\n",
    "fic1 = path + \"modele_dem1.p\"\n",
    "fh1 = open(fic1)\n",
    "m1 = pickle.load(fh1)\n",
    "fh1.close()\n",
    "\n",
    "fic2 = path + \"modele_dem2.p\"\n",
    "fh2 = open(fic2)\n",
    "m2 = pickle.load(fh2)\n",
    "fh2.close()\n",
    "\n",
    "fig = plt.figure()\n",
    "labels = []\n",
    "\n",
    "#on s'intéresse à la zone Z3\n",
    "zone = m.zones['Z3']\n",
    "zone1 = m1.zones['Z3']\n",
    "zone2 = m2.zones['Z3']\n",
    "\n",
    "time = zone.Ehr.keys()\n",
    "\n",
    "titre = u\"sans démoustication\"\n",
    "plt.plot(time, zone.Ehr.values(), label = titre, linewidth = 1.5)\n",
    "\n",
    "titre = u\"démoustication Z1 (K=0.7)\"\n",
    "plt.plot(time, zone1.Ehr.values(), label = titre, linewidth = 1.5)\n",
    "\n",
    "titre = u\"démoustication Z2 (K=0.5)\"\n",
    "plt.plot(time, zone2.Ehr.values(), label = titre, linewidth = 1.5)\n",
    "\n",
    "axes = plt.gca()\n",
    "'''\n",
    "axes.set_xlabel('time (days)')\n",
    "axes.set_ylabel('Infectious vector rate')\n",
    "'''\n",
    "axes.set_xlabel('Temps (jours)')\n",
    "axes.set_ylabel(u'Nombre de personnes exposés')\n",
    "plt.legend(loc = 'best')\n",
    "\n"
   ]
  },
  {
   "cell_type": "markdown",
   "metadata": {},
   "source": [
    "Nombre de vecteur en fonction du taux de Ih entrant dans la zone de rencontre"
   ]
  },
  {
   "cell_type": "code",
   "execution_count": 16,
   "metadata": {
    "collapsed": false
   },
   "outputs": [
    {
     "data": {
      "text/plain": [
       "<matplotlib.text.Text at 0x7f2b382e53d0>"
      ]
     },
     "execution_count": 16,
     "metadata": {},
     "output_type": "execute_result"
    }
   ],
   "source": [
    "%matplotlib qt\n",
    "#%matplotlib inline\n",
    "\n",
    "path2 = \"./Experience4/etape2/\"\n",
    "\n",
    "fig = plt.figure()\n",
    "labels = []\n",
    "colors = ['gray', 'firebrick', 'sienna', 'orange', 'olive', 'darkgreen', 'darkcyan', 'royalblue', 'blue', 'indigo', 'm']\n",
    "for i in range(11):\n",
    "    fic2 = path2 + \"zone\"+str(i)+\".p\"\n",
    "    fh2 = open(fic2)\n",
    "    zone = pickle.load(fh2)\n",
    "    fh2.close()\n",
    "    \n",
    "    time = zone.Iv.keys()\n",
    "    Iv = zone.Iv.values()\n",
    "    titre = \"Ih protected = \"+str((10*i))+\"%\"\n",
    "    plt.plot(time, Iv, color=colors[i], linewidth = 1.5)\n",
    "    \n",
    "    labels.append(titre)\n",
    "#leg = plt.legend(loc='best')\n",
    "plt.legend(labels, loc = 'best')\n",
    "axes = plt.gca()\n",
    "'''\n",
    "axes.set_xlabel('Time (days)')\n",
    "axes.set_ylabel('Number of infectious vectors')\n",
    "'''\n",
    "axes.set_xlabel('Temps (jours)')\n",
    "axes.set_ylabel(u'Nombre de vecteurs infectés')\n",
    "\n",
    "\n"
   ]
  },
  {
   "cell_type": "code",
   "execution_count": 4,
   "metadata": {
    "collapsed": false
   },
   "outputs": [
    {
     "data": {
      "text/plain": [
       "<matplotlib.legend.Legend at 0x7f2b5d472950>"
      ]
     },
     "execution_count": 4,
     "metadata": {},
     "output_type": "execute_result"
    }
   ],
   "source": [
    "%matplotlib qt\n",
    "#%matplotlib inline\n",
    "\n",
    "path2 = \"./Experience4/etape2/\"\n",
    "\n",
    "pn = [0, 20, 40, 60, 80, 100, 120, 140, 160, 180, 200]\n",
    "taux = []\n",
    "\n",
    "fig = plt.figure()\n",
    "labels = []\n",
    "for i in range(11):\n",
    "    fic2 = path2 + \"zone\"+str(i)+\".p\"\n",
    "    fh2 = open(fic2)\n",
    "    zone = pickle.load(fh2)\n",
    "    fh2.close()\n",
    "    Iv = zone.Iv.values()[200]\n",
    "    Nv = zone.Nv.values()[200]\n",
    "    \n",
    "    taux.append(Iv/Nv)\n",
    "    \n",
    "    \n",
    "plt.plot(pn, taux)\n",
    "\n",
    "axes = plt.gca()\n",
    "axes.set_xlabel(u\"Personnes infectés (quantité de présence en pn.)\")\n",
    "axes.set_ylabel(u'Taux de vecteurs infectés')\n",
    "'''\n",
    "axes.set_xlabel('Infectious personnes (pn.)')\n",
    "axes.set_ylabel('Infectious vector rate')\n",
    "'''\n",
    "plt.legend(labels, loc = 'best')\n",
    "\n"
   ]
  },
  {
   "cell_type": "code",
   "execution_count": null,
   "metadata": {
    "collapsed": true
   },
   "outputs": [],
   "source": []
  }
 ],
 "metadata": {
  "kernelspec": {
   "display_name": "Python 2",
   "language": "python",
   "name": "python2"
  },
  "language_info": {
   "codemirror_mode": {
    "name": "ipython",
    "version": 2
   },
   "file_extension": ".py",
   "mimetype": "text/x-python",
   "name": "python",
   "nbconvert_exporter": "python",
   "pygments_lexer": "ipython2",
   "version": "2.7.13"
  }
 },
 "nbformat": 4,
 "nbformat_minor": 2
}
