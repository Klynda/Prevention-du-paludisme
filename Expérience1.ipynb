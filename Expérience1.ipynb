{
 "cells": [
  {
   "cell_type": "markdown",
   "metadata": {},
   "source": [
    "### Expérience 1 : \n",
    "Soient 2 zones : un point de rencontre 'Z1', et une zone de résidence où habite Bob (individu 'H1') et Alice (Individu 'H2').\n",
    "Bob est le seul à se déplacer avec une durée de séjour définie dans le modèle.\n",
    "Nous faisons varier cette durée et présentons l'évolution des probabilités en fonction des déplacements.\n",
    "la zone de rencontre contient un seul individu 'H3' que nous initialisons à l'état infecté.\n"
   ]
  },
  {
   "cell_type": "code",
   "execution_count": 1,
   "metadata": {
    "collapsed": true
   },
   "outputs": [],
   "source": [
    "import cPickle as pickle\n",
    "from Traces import lireTraces\n",
    "import matplotlib.pyplot as plt\n",
    "import numpy as np"
   ]
  },
  {
   "cell_type": "code",
   "execution_count": 2,
   "metadata": {
    "collapsed": false
   },
   "outputs": [
    {
     "name": "stdout",
     "output_type": "stream",
     "text": [
      "taux de séjour :0.1\n",
      "taux de séjour :0.2\n",
      "taux de séjour :0.3\n",
      "taux de séjour :0.4\n",
      "taux de séjour :0.5\n",
      "taux de séjour :0.6\n",
      "taux de séjour :0.7\n",
      "taux de séjour :0.8\n",
      "taux de séjour :0.9\n"
     ]
    },
    {
     "data": {
      "text/plain": [
       "<matplotlib.legend.Legend at 0x7fd00803c2d0>"
      ]
     },
     "execution_count": 2,
     "metadata": {},
     "output_type": "execute_result"
    }
   ],
   "source": [
    "%matplotlib qt\n",
    "#%matplotlib inline\n",
    "\n",
    "nbStep =20\n",
    "\n",
    "i=0\n",
    "colors1 = ['red', 'blue', 'green', 'cyan', 'black', 'tan', 'lightcoral', 'darkblue', 'm']\n",
    "fig = plt.figure()\n",
    "labels = []\n",
    "\n",
    "m = {}\n",
    "for tauxSejour in [0.1, 0.2, 0.3, 0.4, 0.5, 0.6, 0.7, 0.8, 0.9] :\n",
    "    path  = \"./Experience1/Sejour\"+str(tauxSejour)+\"/\"\n",
    "       \n",
    "    traces = path+\"traces\"+str(tauxSejour)+\".txt\"\n",
    "    \n",
    "    N, M, pointRencontre, alpha, seuil, tauxSejour, residence, paternsIndividus, listIndMobiles, paths, presences, endemicites = lireTraces(traces)\n",
    "    \n",
    "    rep = path + \"ModeleProba/\"\n",
    "    fic = rep+ str(N)+\"zones_\"+str(M)+\"Individus_\"+str(pointRencontre)+\"pointRencontre_deplacement\"+str(tauxSejour)+\".p\"\n",
    "    fh = open(fic)\n",
    "    m[i] = pickle.load(fh)\n",
    "    fh.close()\n",
    "    \n",
    "    humans = m[i].getHumans()\n",
    "    \n",
    "    time = humans['H1'].Pse.keys()[0:nbStep]\n",
    "    \n",
    "    pe1 = humans['H1'].Pse.values()[0:nbStep]\n",
    "    plt.plot(time, pe1, color = colors1[i])\n",
    "    labels.append(u\"'H1' séjour = \"+str(tauxSejour *100)+\"%\")\n",
    "    '''\n",
    "    s = humans['H1'].threshold\n",
    "    seuil = np.ones(nbStep)* s\n",
    "    plt.plot(range(nbStep), seuil, color = colors1[i])\n",
    "    labels. append(u\"seuil = \"+str(s))'''\n",
    "    '''\n",
    "    pe2 = humans['H2'].Pse.values()[0:nbStep]\n",
    "    plt.plot(time, pe2, color = colors2[i])\n",
    "    labels.append(u\"'H2' séjour = \"+str(tauxSejour *100)+\"%\")   \n",
    "    '''\n",
    "    \n",
    "    i += 1\n",
    "        \n",
    "plt.legend(labels, loc = 'best')\n",
    "    \n",
    "    "
   ]
  },
  {
   "cell_type": "code",
   "execution_count": 3,
   "metadata": {
    "collapsed": false
   },
   "outputs": [
    {
     "name": "stdout",
     "output_type": "stream",
     "text": [
      "taux de séjour :0.1\n",
      "taux de séjour :0.2\n",
      "taux de séjour :0.3\n",
      "taux de séjour :0.4\n",
      "taux de séjour :0.5\n",
      "taux de séjour :0.6\n",
      "taux de séjour :0.7\n",
      "taux de séjour :0.8\n",
      "taux de séjour :0.9\n"
     ]
    },
    {
     "data": {
      "text/plain": [
       "<matplotlib.legend.Legend at 0x7fdb6f1cfcd0>"
      ]
     },
     "execution_count": 3,
     "metadata": {},
     "output_type": "execute_result"
    }
   ],
   "source": [
    "%matplotlib qt\n",
    "#%matplotlib inline\n",
    "\n",
    "nbStep =20\n",
    "\n",
    "i=0\n",
    "colors1 = ['red', 'blue', 'green', 'cyan', 'black', 'tan', 'lightcoral', 'darkblue', 'm']\n",
    "fig = plt.figure()\n",
    "labels = []\n",
    "\n",
    "m = {}\n",
    "e0 = []\n",
    "e0_2 = []\n",
    "tauxSejours = [0.1, 0.2, 0.3, 0.4, 0.5, 0.6, 0.7, 0.8, 0.9]\n",
    "for tauxSejour in  tauxSejours :\n",
    "    \n",
    "    path  = \"./Experience1/Sejour\"+str(tauxSejour)+\"/\"\n",
    "       \n",
    "    traces = path+\"traces\"+str(tauxSejour)+\".txt\"\n",
    "    \n",
    "    N, M, pointRencontre, alpha, seuil, tauxSejour, residence, paternsIndividus, listIndMobiles, paths, presences, endemicites = lireTraces(traces)\n",
    "    \n",
    "    rep = path + \"ModeleEtat/\"\n",
    "    fic = rep+ str(N)+\"zones_\"+str(M)+\"Individus_\"+str(pointRencontre)+\"pointRencontre_deplacement\"+str(tauxSejour)+\".p\"\n",
    "    fh = open(fic)\n",
    "    m[i] = pickle.load(fh)\n",
    "    fh.close()\n",
    "    \n",
    "    humans = m[i].getHumans()\n",
    "    etats = humans['H1'].state\n",
    "    for t, etat in etats.iteritems():\n",
    "        #print (t, etat.getLabel(), etat.getCounter())\n",
    "        if etat.getLabel()=='E' and etat.getCounter()==0:\n",
    "            e0.append(t)\n",
    "            break\n",
    "            \n",
    "    \n",
    "plt.plot(tauxSejours, e0)#, '*')\n",
    "plt.xlabel(u\"Individual rate of mobility\")\n",
    "plt.ylabel(u\"Risk latency period (#days)\")\n",
    "#plt.title(u\"jour d’exposition de 'H1' en fonction de la durée de séjour\")\n",
    "\n",
    "plt.ylim([0, max(e0)+1])\n",
    "#labels.append(u\"'H1' séjour = \"+str(tauxSejour *100)+\"%\")\n",
    "    \n",
    "        \n",
    "plt.legend(labels, loc = 'best')"
   ]
  },
  {
   "cell_type": "code",
   "execution_count": 4,
   "metadata": {
    "collapsed": false
   },
   "outputs": [
    {
     "name": "stdout",
     "output_type": "stream",
     "text": [
      "taux de séjour :0.05\n",
      "taux de séjour :0.2\n",
      "taux de séjour :0.4\n",
      "taux de séjour :0.8\n"
     ]
    },
    {
     "data": {
      "text/plain": [
       "<matplotlib.legend.Legend at 0x7fd000d57fd0>"
      ]
     },
     "execution_count": 4,
     "metadata": {},
     "output_type": "execute_result"
    }
   ],
   "source": [
    "%matplotlib qt\n",
    "#%matplotlib inline\n",
    "\n",
    "nbStep =20\n",
    "\n",
    "i=0\n",
    "colors1 = ['red', 'blue', 'green', 'cyan', 'black', 'tan', 'lightcoral', 'darkblue', 'm']\n",
    "fig = plt.figure()\n",
    "labels = []\n",
    "\n",
    "m = {}\n",
    "e0 = []\n",
    "e0_2 = []\n",
    "#tauxSejours = [0.1, 0.2, 0.3, 0.4, 0.5, 0.6, 0.7, 0.8, 0.9]\n",
    "tauxSejours = [0.05, 0.2, 0.4, 0.8]\n",
    "for tauxSejour in  tauxSejours :\n",
    "    \n",
    "    path  = \"./Experience1/Sejour\"+str(tauxSejour)+\"/\"\n",
    "       \n",
    "    traces = path+\"traces\"+str(tauxSejour)+\".txt\"\n",
    "    \n",
    "    N, M, pointRencontre, alpha, seuil, tauxSejour, residence, paternsIndividus, listIndMobiles, paths, presences, endemicites = lireTraces(traces)\n",
    "    \n",
    "    rep = path + \"ModeleEtat/\"\n",
    "    fic = rep+ str(N)+\"zones_\"+str(M)+\"Individus_\"+str(pointRencontre)+\"pointRencontre_deplacement\"+str(tauxSejour)+\".p\"\n",
    "    fh = open(fic)\n",
    "    m[i] = pickle.load(fh)\n",
    "    fh.close()\n",
    "    \n",
    "    humans = m[i].getHumans()\n",
    "    etats = humans['H1'].state\n",
    "    for t, etat in etats.iteritems():\n",
    "        #print (t, etat.getLabel(), etat.getCounter())\n",
    "        if etat.getLabel()=='E' and etat.getCounter()==0:\n",
    "            e0.append(t)\n",
    "            break\n",
    "    '''     \n",
    "    etats = humans['H2'].state\n",
    "    for t, etat in etats.iteritems():\n",
    "        #print (t, etat.getLabel(), etat.getCounter())\n",
    "        if etat.getLabel()=='E' and etat.getCounter()==0:\n",
    "            e0.append(t)\n",
    "            break\n",
    "    ''' \n",
    "    \n",
    "plt.plot(tauxSejours, e0)#, '*')\n",
    "plt.xlabel(u\"Individual rate of mobility\")\n",
    "plt.ylabel(u\"Risk latency period (#days)\")\n",
    "#plt.title(u\"jour d’exposition de 'H1' en fonction de la durée de séjour\")\n",
    "\n",
    "plt.ylim([0, max(e0)+1])\n",
    "#labels.append(u\"'H1' séjour = \"+str(tauxSejour *100)+\"%\")\n",
    "    \n",
    "        \n",
    "plt.legend(labels, loc = 'best')"
   ]
  },
  {
   "cell_type": "code",
   "execution_count": null,
   "metadata": {
    "collapsed": true
   },
   "outputs": [],
   "source": [
    "e0.values()"
   ]
  },
  {
   "cell_type": "code",
   "execution_count": null,
   "metadata": {
    "collapsed": true
   },
   "outputs": [],
   "source": [
    "%matplotlib qt\n",
    "from PlotZone import *\n",
    "\n",
    "\n",
    "z = m[4].zones\n",
    "\n",
    "plot_AllPropEH(z)"
   ]
  },
  {
   "cell_type": "code",
   "execution_count": null,
   "metadata": {
    "collapsed": true
   },
   "outputs": [],
   "source": [
    "%matplotlib qt\n",
    "mm =  m[2]\n",
    "for idz in mm.zones :\n",
    "    print \"zones \"+idz\n",
    "    z = mm.zones[idz]\n",
    "    print (\"eh\", z.Ehc)\n",
    "    print (\"ih\", z.Ihc)\n",
    "    plot_H(z, \"\")"
   ]
  },
  {
   "cell_type": "code",
   "execution_count": null,
   "metadata": {
    "collapsed": true
   },
   "outputs": [],
   "source": [
    "%matplotlib qt\n",
    "\n",
    "mm =  m[2]\n",
    "for idz in mm.zones :\n",
    "    print \"zones \"+idz\n",
    "    z = mm.zones[idz]\n",
    "    plt.plot(z.Eh0.keys(), z.Eh0.values())"
   ]
  }
 ],
 "metadata": {
  "kernelspec": {
   "display_name": "Python 2",
   "language": "python",
   "name": "python2"
  },
  "language_info": {
   "codemirror_mode": {
    "name": "ipython",
    "version": 2
   },
   "file_extension": ".py",
   "mimetype": "text/x-python",
   "name": "python",
   "nbconvert_exporter": "python",
   "pygments_lexer": "ipython2",
   "version": "2.7.13"
  }
 },
 "nbformat": 4,
 "nbformat_minor": 2
}
