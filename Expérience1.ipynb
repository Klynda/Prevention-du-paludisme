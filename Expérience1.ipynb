{
 "cells": [
  {
   "cell_type": "markdown",
   "metadata": {},
   "source": [
    "### Expérience 1 : \n",
    "Soient 2 zones : un point de rencontre 'Z1', et une zone de résidence où habite Bob (individu 'H1') et Alice (Individu 'H2').\n",
    "Bob est le seul à se déplacer avec une durée de séjour définie dans le modèle.\n",
    "Nous faisons varier cette durée et présentons l'évolution des probabilités en fonction des déplacements.\n",
    "la zone de rencontre contient un seul individu 'H3' que nous initialisons à l'état infecté.\n",
    "\n",
    "Attente: comparez avec le travail connexe et démontrez que l'information sur la mobilité individuelle donne des estimations plus précises pour plusieurs cas.\n",
    "\n",
    "Mesurer l'impact (ou l'importance) de la mobilité individuelle sur l'évolution des zones infectieuses. Combien la mobilité individuelle modifie-t-elle la force d'infection (FOI) d'une zone ou l'évolution temporelle du nombre total de personnes exposées, par rapport à la mobilité agrégée au niveau de la zone?\n",
    "Méthode de comparaison: la différence relative du nombre de personnes exposées,Combien de personnes sont exposées (ou infectées) par rapport à des solutions qui ignorent la mobilité individuelle?\n",
    "\n",
    "Comme présenté dans \\ S ~ \\ ref {sec: mobilité}, pour chaque utilisateur $ j $ et pour chaque jour $ d $, $ j $ a visité le correctif $ k $ au jour $ d $ pendant une fraction $ w_j ^ k (d ) $ De ce jour.\n",
    "Nous pouvons considérer une telle trajectoire comme une instanciation d'un modèle de mobilité spécifique qui caractérise les paramètres suivants:\n",
    "\n",
    "- Le nombre $ m $ de personnes en déplacement.\n",
    "- La durée $ d $ d'une visite.\n",
    "- La fréquence $ f $ de visites, exprimée en $ jour ^ {- 1} $ unité (\\ par exemple, égale à 1 pour une visite quotidienne ou $ 1/7 $ pour une visite hebdomadaire).\n",
    "- La fourchette de temps $ t_ {début} $, $ t_ {fin} $ pendant laquelle les visites se produisent (par exemple, quelqu'un se déplace du 1er juillet au 30 août 2017, puis reste à la maison).\n",
    "- La densité cible spécifiant le nombre d'utilisateurs partageant un point de rencontre au même jour.\n",
    "\n",
    "% Un ratio 'out-home' et une taille de réunion.\n",
    "\n",
    "Nous étudions le comportement du modèle pour différentes combinaisons de ces paramètres.\n",
    "\n",
    "\n",
    "% \\ Item Varie le ratio \"hors-chez-soi\" des individus, allant de la plupart des gens presque toujours à la maison à la plupart des gens presque toujours sortis. L'approche fonctionne-t-elle mieux pour un ratio «hors domicile» bas ou élevé?\n",
    "\n",
    "Nous modifions le nombre $ m $ de la personne qui déménage. En conséquence, nous modifions la fréquence $ f $ des visites de sorte que chaque jour une quantité fixe de personne avance pour s'assurer que le produit $ m .f $ invariant. \\ P. Ex. Pour $ m.f = 10 $, nous pouvons avoir 10 personnes se déplacer une fois par jour, 70 personnes se déplacent une fois par semaine ou jusqu'à 1000 personnes se déplaçant une fois tous les 100 jours.\n",
    "\n",
    "% \\ Item Varient la taille moyenne des réunions, allant de 10 personnes à des réunions de plus de 10000 personnes. L'approche est-elle meilleure pour les réunions de petite ou grande taille?\n",
    "\n",
    "\n",
    "% Est-ce que, évidemment, observons-nous que lorsque les gens déménagent beaucoup, la différence relative s'accroît?\n",
    "\n",
    "% Plus subtilement, observons-nous que la différence ne s'accroît que lorsque les gens se rassemblent à la fois dans de longues et longues réunions?\n",
    "\n",
    "Nous avons l'intention de constater que lorsque moins de personnes se déplacent, elles se manifestent plus rapidement et entraînent donc un impact plus important sur leur aire de vie.\n",
    "\n",
    "Pouvons-nous conclure que la mobilité individuelle est très importante pour certains modèles de mobilité, mais pas si important pour certains autres modèles de mobilité (à caractériser empiriquement)?\n",
    "\n",
    "\n"
   ]
  },
  {
   "cell_type": "code",
   "execution_count": 1,
   "metadata": {
    "collapsed": true
   },
   "outputs": [],
   "source": [
    "import cPickle as pickle\n",
    "from Traces import lireTraces\n",
    "import matplotlib.pyplot as plt\n",
    "import numpy as np"
   ]
  },
  {
   "cell_type": "code",
   "execution_count": 2,
   "metadata": {
    "collapsed": false
   },
   "outputs": [
    {
     "name": "stdout",
     "output_type": "stream",
     "text": [
      "taux de séjour :0.1\n",
      "taux de séjour :0.2\n",
      "taux de séjour :0.3\n",
      "taux de séjour :0.4\n",
      "taux de séjour :0.5\n",
      "taux de séjour :0.6\n",
      "taux de séjour :0.7\n",
      "taux de séjour :0.8\n",
      "taux de séjour :0.9\n"
     ]
    },
    {
     "data": {
      "text/plain": [
       "<matplotlib.legend.Legend at 0x7fd00803c2d0>"
      ]
     },
     "execution_count": 2,
     "metadata": {},
     "output_type": "execute_result"
    }
   ],
   "source": [
    "%matplotlib qt\n",
    "#%matplotlib inline\n",
    "\n",
    "nbStep =20\n",
    "\n",
    "i=0\n",
    "colors1 = ['red', 'blue', 'green', 'cyan', 'black', 'tan', 'lightcoral', 'darkblue', 'm']\n",
    "fig = plt.figure()\n",
    "labels = []\n",
    "\n",
    "m = {}\n",
    "for tauxSejour in [0.1, 0.2, 0.3, 0.4, 0.5, 0.6, 0.7, 0.8, 0.9] :\n",
    "    path  = \"./Experience1/Sejour\"+str(tauxSejour)+\"/\"\n",
    "       \n",
    "    traces = path+\"traces\"+str(tauxSejour)+\".txt\"\n",
    "    \n",
    "    N, M, pointRencontre, alpha, seuil, tauxSejour, residence, paternsIndividus, listIndMobiles, paths, presences, endemicites = lireTraces(traces)\n",
    "    \n",
    "    rep = path + \"ModeleProba/\"\n",
    "    fic = rep+ str(N)+\"zones_\"+str(M)+\"Individus_\"+str(pointRencontre)+\"pointRencontre_deplacement\"+str(tauxSejour)+\".p\"\n",
    "    fh = open(fic)\n",
    "    m[i] = pickle.load(fh)\n",
    "    fh.close()\n",
    "    \n",
    "    humans = m[i].getHumans()\n",
    "    \n",
    "    time = humans['H1'].Pse.keys()[0:nbStep]\n",
    "    \n",
    "    pe1 = humans['H1'].Pse.values()[0:nbStep]\n",
    "    plt.plot(time, pe1, color = colors1[i])\n",
    "    labels.append(u\"'H1' séjour = \"+str(tauxSejour *100)+\"%\")\n",
    "    '''\n",
    "    s = humans['H1'].threshold\n",
    "    seuil = np.ones(nbStep)* s\n",
    "    plt.plot(range(nbStep), seuil, color = colors1[i])\n",
    "    labels. append(u\"seuil = \"+str(s))'''\n",
    "    '''\n",
    "    pe2 = humans['H2'].Pse.values()[0:nbStep]\n",
    "    plt.plot(time, pe2, color = colors2[i])\n",
    "    labels.append(u\"'H2' séjour = \"+str(tauxSejour *100)+\"%\")   \n",
    "    '''\n",
    "    \n",
    "    i += 1\n",
    "        \n",
    "plt.legend(labels, loc = 'best')\n",
    "    \n",
    "    "
   ]
  },
  {
   "cell_type": "code",
   "execution_count": 3,
   "metadata": {
    "collapsed": false
   },
   "outputs": [
    {
     "name": "stdout",
     "output_type": "stream",
     "text": [
      "taux de séjour :0.1\n",
      "taux de séjour :0.2\n",
      "taux de séjour :0.3\n",
      "taux de séjour :0.4\n",
      "taux de séjour :0.5\n",
      "taux de séjour :0.6\n",
      "taux de séjour :0.7\n",
      "taux de séjour :0.8\n",
      "taux de séjour :0.9\n"
     ]
    },
    {
     "data": {
      "text/plain": [
       "<matplotlib.legend.Legend at 0x7fdb6f1cfcd0>"
      ]
     },
     "execution_count": 3,
     "metadata": {},
     "output_type": "execute_result"
    }
   ],
   "source": [
    "%matplotlib qt\n",
    "#%matplotlib inline\n",
    "\n",
    "nbStep =20\n",
    "\n",
    "i=0\n",
    "colors1 = ['red', 'blue', 'green', 'cyan', 'black', 'tan', 'lightcoral', 'darkblue', 'm']\n",
    "fig = plt.figure()\n",
    "labels = []\n",
    "\n",
    "m = {}\n",
    "e0 = []\n",
    "e0_2 = []\n",
    "tauxSejours = [0.1, 0.2, 0.3, 0.4, 0.5, 0.6, 0.7, 0.8, 0.9]\n",
    "for tauxSejour in  tauxSejours :\n",
    "    \n",
    "    path  = \"./Experience1/Sejour\"+str(tauxSejour)+\"/\"\n",
    "       \n",
    "    traces = path+\"traces\"+str(tauxSejour)+\".txt\"\n",
    "    \n",
    "    N, M, pointRencontre, alpha, seuil, tauxSejour, residence, paternsIndividus, listIndMobiles, paths, presences, endemicites = lireTraces(traces)\n",
    "    \n",
    "    rep = path + \"ModeleEtat/\"\n",
    "    fic = rep+ str(N)+\"zones_\"+str(M)+\"Individus_\"+str(pointRencontre)+\"pointRencontre_deplacement\"+str(tauxSejour)+\".p\"\n",
    "    fh = open(fic)\n",
    "    m[i] = pickle.load(fh)\n",
    "    fh.close()\n",
    "    \n",
    "    humans = m[i].getHumans()\n",
    "    etats = humans['H1'].state\n",
    "    for t, etat in etats.iteritems():\n",
    "        #print (t, etat.getLabel(), etat.getCounter())\n",
    "        if etat.getLabel()=='E' and etat.getCounter()==0:\n",
    "            e0.append(t)\n",
    "            break\n",
    "            \n",
    "    \n",
    "plt.plot(tauxSejours, e0)#, '*')\n",
    "plt.xlabel(u\"Individual rate of mobility\")\n",
    "plt.ylabel(u\"Risk latency period (#days)\")\n",
    "#plt.title(u\"jour d’exposition de 'H1' en fonction de la durée de séjour\")\n",
    "\n",
    "plt.ylim([0, max(e0)+1])\n",
    "#labels.append(u\"'H1' séjour = \"+str(tauxSejour *100)+\"%\")\n",
    "    \n",
    "        \n",
    "plt.legend(labels, loc = 'best')"
   ]
  },
  {
   "cell_type": "code",
   "execution_count": 4,
   "metadata": {
    "collapsed": false
   },
   "outputs": [
    {
     "name": "stdout",
     "output_type": "stream",
     "text": [
      "taux de séjour :0.05\n",
      "taux de séjour :0.2\n",
      "taux de séjour :0.4\n",
      "taux de séjour :0.8\n"
     ]
    },
    {
     "data": {
      "text/plain": [
       "<matplotlib.legend.Legend at 0x7fd000d57fd0>"
      ]
     },
     "execution_count": 4,
     "metadata": {},
     "output_type": "execute_result"
    }
   ],
   "source": [
    "%matplotlib qt\n",
    "#%matplotlib inline\n",
    "\n",
    "nbStep =20\n",
    "\n",
    "i=0\n",
    "colors1 = ['red', 'blue', 'green', 'cyan', 'black', 'tan', 'lightcoral', 'darkblue', 'm']\n",
    "fig = plt.figure()\n",
    "labels = []\n",
    "\n",
    "m = {}\n",
    "e0 = []\n",
    "e0_2 = []\n",
    "#tauxSejours = [0.1, 0.2, 0.3, 0.4, 0.5, 0.6, 0.7, 0.8, 0.9]\n",
    "tauxSejours = [0.05, 0.2, 0.4, 0.8]\n",
    "for tauxSejour in  tauxSejours :\n",
    "    \n",
    "    path  = \"./Experience1/Sejour\"+str(tauxSejour)+\"/\"\n",
    "       \n",
    "    traces = path+\"traces\"+str(tauxSejour)+\".txt\"\n",
    "    \n",
    "    N, M, pointRencontre, alpha, seuil, tauxSejour, residence, paternsIndividus, listIndMobiles, paths, presences, endemicites = lireTraces(traces)\n",
    "    \n",
    "    rep = path + \"ModeleEtat/\"\n",
    "    fic = rep+ str(N)+\"zones_\"+str(M)+\"Individus_\"+str(pointRencontre)+\"pointRencontre_deplacement\"+str(tauxSejour)+\".p\"\n",
    "    fh = open(fic)\n",
    "    m[i] = pickle.load(fh)\n",
    "    fh.close()\n",
    "    \n",
    "    humans = m[i].getHumans()\n",
    "    etats = humans['H1'].state\n",
    "    for t, etat in etats.iteritems():\n",
    "        #print (t, etat.getLabel(), etat.getCounter())\n",
    "        if etat.getLabel()=='E' and etat.getCounter()==0:\n",
    "            e0.append(t)\n",
    "            break\n",
    "    '''     \n",
    "    etats = humans['H2'].state\n",
    "    for t, etat in etats.iteritems():\n",
    "        #print (t, etat.getLabel(), etat.getCounter())\n",
    "        if etat.getLabel()=='E' and etat.getCounter()==0:\n",
    "            e0.append(t)\n",
    "            break\n",
    "    ''' \n",
    "    \n",
    "plt.plot(tauxSejours, e0)#, '*')\n",
    "plt.xlabel(u\"Individual rate of mobility\")\n",
    "plt.ylabel(u\"Risk latency period (#days)\")\n",
    "#plt.title(u\"jour d’exposition de 'H1' en fonction de la durée de séjour\")\n",
    "\n",
    "plt.ylim([0, max(e0)+1])\n",
    "#labels.append(u\"'H1' séjour = \"+str(tauxSejour *100)+\"%\")\n",
    "    \n",
    "        \n",
    "plt.legend(labels, loc = 'best')"
   ]
  },
  {
   "cell_type": "code",
   "execution_count": 5,
   "metadata": {
    "collapsed": false
   },
   "outputs": [
    {
     "ename": "IndentationError",
     "evalue": "expected an indented block (<ipython-input-5-b29d2f8b91b0>, line 2)",
     "output_type": "error",
     "traceback": [
      "\u001b[0;36m  File \u001b[0;32m\"<ipython-input-5-b29d2f8b91b0>\"\u001b[0;36m, line \u001b[0;32m2\u001b[0m\n\u001b[0;31m    \u001b[0m\n\u001b[0m    ^\u001b[0m\n\u001b[0;31mIndentationError\u001b[0m\u001b[0;31m:\u001b[0m expected an indented block\n"
     ]
    }
   ],
   "source": [
    "for tauxSejour in  tauxSejours :\n",
    "    "
   ]
  },
  {
   "cell_type": "code",
   "execution_count": null,
   "metadata": {
    "collapsed": true
   },
   "outputs": [],
   "source": [
    "e0.values()"
   ]
  },
  {
   "cell_type": "code",
   "execution_count": null,
   "metadata": {
    "collapsed": true
   },
   "outputs": [],
   "source": [
    "%matplotlib qt\n",
    "from PlotZone import *\n",
    "\n",
    "\n",
    "z = m[4].zones\n",
    "\n",
    "plot_AllPropEH(z)"
   ]
  },
  {
   "cell_type": "code",
   "execution_count": null,
   "metadata": {
    "collapsed": true
   },
   "outputs": [],
   "source": [
    "%matplotlib qt\n",
    "mm =  m[2]\n",
    "for idz in mm.zones :\n",
    "    print \"zones \"+idz\n",
    "    z = mm.zones[idz]\n",
    "    print (\"eh\", z.Ehc)\n",
    "    print (\"ih\", z.Ihc)\n",
    "    plot_H(z, \"\")"
   ]
  },
  {
   "cell_type": "code",
   "execution_count": null,
   "metadata": {
    "collapsed": true
   },
   "outputs": [],
   "source": [
    "%matplotlib qt\n",
    "\n",
    "mm =  m[2]\n",
    "for idz in mm.zones :\n",
    "    print \"zones \"+idz\n",
    "    z = mm.zones[idz]\n",
    "    plt.plot(z.Eh0.keys(), z.Eh0.values())"
   ]
  },
  {
   "cell_type": "code",
   "execution_count": null,
   "metadata": {
    "collapsed": true
   },
   "outputs": [],
   "source": [
    "impo"
   ]
  }
 ],
 "metadata": {
  "kernelspec": {
   "display_name": "Python 2",
   "language": "python",
   "name": "python2"
  },
  "language_info": {
   "codemirror_mode": {
    "name": "ipython",
    "version": 2
   },
   "file_extension": ".py",
   "mimetype": "text/x-python",
   "name": "python",
   "nbconvert_exporter": "python",
   "pygments_lexer": "ipython2",
   "version": "2.7.13"
  }
 },
 "nbformat": 4,
 "nbformat_minor": 2
}
