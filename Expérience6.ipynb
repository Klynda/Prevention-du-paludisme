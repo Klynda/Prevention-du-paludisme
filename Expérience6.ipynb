{
 "cells": [
  {
   "cell_type": "markdown",
   "metadata": {},
   "source": [
    "### Expérience  6 : \n"
   ]
  },
  {
   "cell_type": "code",
   "execution_count": 1,
   "metadata": {
    "collapsed": false
   },
   "outputs": [],
   "source": [
    "import cPickle as pickle\n",
    "from Traces import lireTraces\n",
    "import matplotlib.pyplot as plt\n",
    "import numpy as np\n",
    "from PlotZone import *"
   ]
  },
  {
   "cell_type": "code",
   "execution_count": null,
   "metadata": {
    "collapsed": false
   },
   "outputs": [],
   "source": [
    "%matplotlib qt\n",
    "#%matplotlib inline\n",
    "\n",
    "path = \"./Experience6/\"\n",
    "\n",
    "fic = path + \"modele.p\"\n",
    "fh = open(fic)\n",
    "m = pickle.load(fh)\n",
    "fh.close()\n",
    "\n",
    "fic1 = path + \"modele_dem1.p\"\n",
    "fh1 = open(fic1)\n",
    "m1 = pickle.load(fh1)\n",
    "fh1.close()\n",
    "\n",
    "fic2 = path + \"modele_dem2.p\"\n",
    "fh2 = open(fic2)\n",
    "m2 = pickle.load(fh2)\n",
    "fh2.close()\n",
    "\n",
    "fic3 = path + \"modele_dem3.p\"\n",
    "fh3 = open(fic3)\n",
    "m3 = pickle.load(fh3)\n",
    "fh3.close()\n",
    "\n",
    "\n",
    "#on s'intéresse à la zone Z3\n",
    "zone = m.zones['Z3']\n",
    "zone1 = m1.zones['Z3']\n",
    "zone2 = m2.zones['Z3']\n",
    "zone3 = m3.zones['Z3']\n",
    "\n",
    "fig = plt.figure()\n",
    "labels = []\n",
    "\n",
    "time = zone.Ehr.keys()\n",
    "\n",
    "#titre = u\"sans démoustication\"\n",
    "titre = \"Without mosquito eradication\"\n",
    "plt.plot(time, zone.Ehr.values(), label = titre, linewidth = 1.5)\n",
    "\n",
    "#titre = u\"démoustication Z1 (K=0.7)\"\n",
    "titre = \"Mosquito eradication of Z1 (K=0.7)\"\n",
    "plt.plot(time, zone1.Ehr.values(), label = titre, linewidth = 1.5)\n",
    "\n",
    "#titre = u\"démoustication Z2 (K=0.5)\"\n",
    "titre = \"Mosquito eradication of Z2 (K=0.5)\"\n",
    "plt.plot(time, zone2.Ehr.values(), label = titre, linewidth = 1.5)\n",
    "\n",
    "#titre = u\"démoustication Z3 (K=0.8)\"\n",
    "titre = \"Mosquito eradication of Z3 (K=0.5)\"\n",
    "plt.plot(time, zone3.Ehr.values(), label = titre, linewidth = 1.5)\n",
    "\n",
    "axes = plt.gca()\n",
    "'''\n",
    "axes.set_xlabel('Temps (jours)')\n",
    "axes.set_ylabel(u'Nombre de personnes exposés')\n",
    "'''\n",
    "axes.set_xlabel('Time (day)')\n",
    "axes.set_ylabel('Number of  exposed people')\n",
    "plt.legend(loc = 'best')\n",
    "\n",
    "\n",
    "fig = plt.figure()\n",
    "labels = []\n",
    "\n",
    "time = zone.Ehr.keys()\n",
    "\n",
    "titre = u\"sans démoustication\"\n",
    "plt.plot(time, zone.Nv.values(), label = titre, linewidth = 1.5)\n",
    "\n",
    "titre = u\"démoustication Z1 (K=0.7)\"\n",
    "plt.plot(time, zone1.Nv.values(), label = titre, linewidth = 1.5)\n",
    "\n",
    "titre = u\"démoustication Z2 (K=0.5)\"\n",
    "plt.plot(time, zone2.Nv.values(), label = titre, linewidth = 1.5)\n",
    "\n",
    "titre = u\"démoustication Z3 (K=0.5)\"\n",
    "plt.plot(time, zone3.Nv.values(), label = titre, linewidth = 1.5)\n",
    "\n",
    "axes = plt.gca()\n",
    "axes.set_xlabel('Temps (jours)')\n",
    "axes.set_ylabel(u'Nombre de vecteurs infectés')\n",
    "plt.legend(loc = 'best')"
   ]
  },
  {
   "cell_type": "markdown",
   "metadata": {},
   "source": [
    "## nouveaux exposés"
   ]
  },
  {
   "cell_type": "code",
   "execution_count": 7,
   "metadata": {
    "collapsed": false
   },
   "outputs": [
    {
     "data": {
      "text/plain": [
       "<matplotlib.legend.Legend at 0x7fa1de050f50>"
      ]
     },
     "execution_count": 7,
     "metadata": {},
     "output_type": "execute_result"
    }
   ],
   "source": [
    "%matplotlib qt\n",
    "#%matplotlib inline\n",
    "\n",
    "path = \"./Experience6/\"\n",
    "\n",
    "fic = path + \"modele.p\"\n",
    "fh = open(fic)\n",
    "m = pickle.load(fh)\n",
    "fh.close()\n",
    "\n",
    "fic1 = path + \"modele_dem1.p\"\n",
    "fh1 = open(fic1)\n",
    "m1 = pickle.load(fh1)\n",
    "fh1.close()\n",
    "\n",
    "fic2 = path + \"modele_dem2.p\"\n",
    "fh2 = open(fic2)\n",
    "m2 = pickle.load(fh2)\n",
    "fh2.close()\n",
    "\n",
    "fic3 = path + \"modele_dem3.p\"\n",
    "fh3 = open(fic3)\n",
    "m3 = pickle.load(fh3)\n",
    "fh3.close()\n",
    "\n",
    "\n",
    "maxi = 0\n",
    "\n",
    "#on s'intéresse à la zone Z3\n",
    "zone = m.zones['Z3']\n",
    "zone1 = m1.zones['Z3']\n",
    "zone2 = m2.zones['Z3']\n",
    "zone3 = m3.zones['Z3']\n",
    "\n",
    "fig = plt.figure()\n",
    "labels = []\n",
    "\n",
    "time = zone.Ehr.keys()\n",
    "\n",
    "#titre = u\"sans démoustication\"\n",
    "titre = \"Without mosquito eradication\"\n",
    "plt.plot(time, zone.Eh0.values(), label = titre, linewidth = 1.5)\n",
    "maxi = max(maxi, max(zone.Ehr.values()) )\n",
    "\n",
    "#titre = u\"démoustication à t=12 de Z1 (K=0.7)\"\n",
    "titre = \"Mosquito eradication of Z1 (K=0.7)\"\n",
    "plt.plot(time, zone1.Eh0.values(), label = titre, linewidth = 1.5)\n",
    "maxi = max(maxi, max(zone1.Ehr.values()) )\n",
    "\n",
    "#titre = u\"démoustication à t=12 de Z2 (K=0.5)\"\n",
    "titre = \"Mosquito eradication of Z2 (K=0.5)\"\n",
    "plt.plot(time, zone2.Eh0.values(), label = titre, linewidth = 1.5)\n",
    "maxi = max(maxi, max(zone2.Ehr.values()) )\n",
    "\n",
    "#titre = u\"démoustication à t=12 de Z3 (K=0.5)\"\n",
    "titre = \"Mosquito eradication of Z3 (K=0.5)\"\n",
    "plt.plot(time, zone3.Eh0.values(), label = titre, linewidth = 1.5)\n",
    "maxi = max(maxi, max(zone.Ehr.values()) )\n",
    "\n",
    "axes = plt.gca()\n",
    "'''\n",
    "axes.set_xlabel('Temps (jours)')\n",
    "axes.set_ylabel(u'Nombre de personnes exposés')\n",
    "'''\n",
    "axes.set_xlabel('Time (day)')\n",
    "axes.set_ylabel('Number of new exposed people')\n",
    "\n",
    "\n",
    "plt.legend(loc = 'best')\n",
    "\n",
    "\n",
    "fig = plt.figure()\n",
    "labels = []\n",
    "\n",
    "time = zone.Ehr.keys()\n",
    "\n",
    "titre = u\"sans démoustication\"\n",
    "plt.plot(time, zone.Nv.values(), label = titre, linewidth = 1.5)\n",
    "\n",
    "titre = u\"démoustication à t=12 de Z1 (K=0.7)\"\n",
    "plt.plot(time, zone1.Nv.values(), label = titre, linewidth = 1.5)\n",
    "\n",
    "titre = u\"démoustication à t=12 de Z2 (K=0.5)\"\n",
    "plt.plot(time, zone2.Nv.values(), label = titre, linewidth = 1.5)\n",
    "\n",
    "titre = u\"démoustication à t=12 de Z3 (K=0.5)\"\n",
    "plt.plot(time, zone3.Nv.values(), label = titre, linewidth = 1.5)\n",
    "\n",
    "#plt.plot([12, 12], [0, maxi], color='black')\n",
    "\n",
    "axes = plt.gca()\n",
    "axes.set_xlabel('Temps (jours)')\n",
    "axes.set_ylabel(u'Nombre de vecteurs infectés')\n",
    "plt.legend(loc = 'best')"
   ]
  },
  {
   "cell_type": "markdown",
   "metadata": {},
   "source": [
    "## histo E0"
   ]
  },
  {
   "cell_type": "code",
   "execution_count": 9,
   "metadata": {
    "collapsed": false
   },
   "outputs": [
    {
     "data": {
      "text/plain": [
       "[648, 592, 533, 478]"
      ]
     },
     "execution_count": 9,
     "metadata": {},
     "output_type": "execute_result"
    }
   ],
   "source": [
    "h = zone.Eh0.values()[12:73]\n",
    "h1 = zone1.Eh0.values()[12:73]\n",
    "h2 = zone2.Eh0.values()[12:73]\n",
    "h3 = zone3.Eh0.values()[12:73]\n",
    "\n",
    "cumulE0 = [np.sum(h), np.sum(h1), np.sum(h2), np.sum(h3)]\n",
    "cumulE0"
   ]
  },
  {
   "cell_type": "code",
   "execution_count": 11,
   "metadata": {
    "collapsed": false
   },
   "outputs": [],
   "source": [
    "import matplotlib.pyplot as plt\n",
    "%matplotlib qt\n",
    "#import plotly.plotly as py\n",
    "\n",
    "strategy = ['No control', 'Z1 control', 'Z2 control', 'Z3 control']\n",
    "\n",
    "N = len(cumulE0)\n",
    "index = range(N)\n",
    "#fig, ax = plt.subplots()\n",
    "\n",
    "bar_width = 0.5\n",
    "\n",
    "plt.bar(index, cumulE0,  bar_width, color = ('b', 'g', 'r', 'c'))\n",
    "\n",
    "plt.xlabel(u\"Control strategies\")\n",
    "plt.ylabel(u\"Cumulative number of new exposed\")\n",
    "#plt.title(u\"Comparaison du nombre d'exposés générés par zone avec et sans déplacements\")\n",
    "\n",
    "affichage = []\n",
    "for i in index :\n",
    "    affichage.append(i+bar_width/2)\n",
    "plt.xticks(affichage, strategy)\n",
    "plt.show()\n",
    "plt.legend()"
   ]
  },
  {
   "cell_type": "code",
   "execution_count": null,
   "metadata": {
    "collapsed": false
   },
   "outputs": [],
   "source": [
    "print zone.Ihr\n",
    "print\n",
    "print zone1.Ihr\n",
    "print\n",
    "print zone2.Ihr\n",
    "print\n",
    "print zone3.Ihr"
   ]
  },
  {
   "cell_type": "code",
   "execution_count": 21,
   "metadata": {
    "collapsed": false
   },
   "outputs": [
    {
     "data": {
      "text/plain": [
       "[180, 648, 911]"
      ]
     },
     "execution_count": 21,
     "metadata": {},
     "output_type": "execute_result"
    }
   ],
   "source": [
    "h1 = zone.Eh0.values()[12:43]\n",
    "h2 = zone.Eh0.values()[12:73]\n",
    "h3 = zone.Eh0.values()[12:103]\n",
    "\n",
    "cumulE = [np.sum(h1), np.sum(h2), np.sum(h3)]\n",
    "cumulE"
   ]
  },
  {
   "cell_type": "code",
   "execution_count": 22,
   "metadata": {
    "collapsed": false
   },
   "outputs": [
    {
     "data": {
      "text/plain": [
       "[129, 592, 894]"
      ]
     },
     "execution_count": 22,
     "metadata": {},
     "output_type": "execute_result"
    }
   ],
   "source": [
    "h1 = zone1.Eh0.values()[12:43]\n",
    "h2 = zone1.Eh0.values()[12:73]\n",
    "h3 = zone1.Eh0.values()[12:103]\n",
    "\n",
    "cumulE1 = [np.sum(h1), np.sum(h2), np.sum(h3)]\n",
    "cumulE1"
   ]
  },
  {
   "cell_type": "code",
   "execution_count": 23,
   "metadata": {
    "collapsed": false
   },
   "outputs": [
    {
     "data": {
      "text/plain": [
       "[110, 533, 883]"
      ]
     },
     "execution_count": 23,
     "metadata": {},
     "output_type": "execute_result"
    }
   ],
   "source": [
    "h1 = zone2.Eh0.values()[12:43]\n",
    "h2 = zone2.Eh0.values()[12:73]\n",
    "h3 = zone2.Eh0.values()[12:103]\n",
    "\n",
    "cumulE2 = [np.sum(h1), np.sum(h2), np.sum(h3)]\n",
    "cumulE2"
   ]
  },
  {
   "cell_type": "code",
   "execution_count": 24,
   "metadata": {
    "collapsed": false
   },
   "outputs": [
    {
     "data": {
      "text/plain": [
       "[157, 478, 825]"
      ]
     },
     "execution_count": 24,
     "metadata": {},
     "output_type": "execute_result"
    }
   ],
   "source": [
    "h1 = zone3.Eh0.values()[12:43]\n",
    "h2 = zone3.Eh0.values()[12:73]\n",
    "h3 = zone3.Eh0.values()[12:103]\n",
    "\n",
    "cumulE3 = [np.sum(h1), np.sum(h2), np.sum(h3)]\n",
    "cumulE3"
   ]
  },
  {
   "cell_type": "code",
   "execution_count": 59,
   "metadata": {
    "collapsed": false
   },
   "outputs": [],
   "source": [
    "import matplotlib.pyplot as plt\n",
    "%matplotlib qt\n",
    "#import plotly.plotly as py\n",
    "\n",
    "\n",
    "N = len(cumulE1)\n",
    "index = range(N)\n",
    "fig = plt.figure()\n",
    "ax = fig.add_subplot(111)\n",
    "\n",
    "bar_width = 0.2\n",
    "\n",
    "affic = []\n",
    "affic1 = []\n",
    "affic2 = []\n",
    "affic3 = []\n",
    "\n",
    "for i in index :\n",
    "    affic.append(i+ 2*bar_width)\n",
    "    affic1.append(i + bar_width)\n",
    "    affic2.append(i + bar_width*2)\n",
    "    affic3.append(i + bar_width*3)\n",
    "\n",
    "rects = ax.bar(index, cumulE,  bar_width, color = 'b')\n",
    "rects1 = ax.bar(affic1, cumulE1,  bar_width, color = 'g')\n",
    "rects2 = ax.bar(affic2, cumulE2,  bar_width, color = 'r')\n",
    "rects3 = ax.bar(affic3, cumulE3,  bar_width, color = 'c')\n",
    "\n",
    "ax.set_xticks(affic)\n",
    "ax.set_xticklabels( ('Cumulation at t = 42', 'Cumulation at t=72', 'Cumulation at t=102') )\n",
    "ax.legend( (rects[0], rects1[0], rects2[0], rects3[0]), ('No control', 'Z1 control', 'Z2 control', 'Z3 control'), loc = 'best')\n",
    "\n",
    "plt.xlabel(u\"Control strategies\")\n",
    "plt.ylabel(u\"Cumulative number of new exposed\")\n",
    "#plt.title(u\"Comparaison du nombre d'exposés générés par zone avec et sans déplacements\")\n",
    "\n",
    "\n",
    "\n",
    "plt.ylim([0,1100])\n",
    "\n",
    "def autolabel(rects):\n",
    "    for rect in rects:\n",
    "        h = rect.get_height()\n",
    "        ax.text(rect.get_x()+rect.get_width()/2., 1.05*h, '%d'%int(h), ha='center', va='bottom')\n",
    "\n",
    "autolabel(rects)        \n",
    "autolabel(rects1)\n",
    "autolabel(rects2)\n",
    "autolabel(rects3)\n",
    "\n",
    "plt.show()\n",
    "plt.legend()"
   ]
  },
  {
   "cell_type": "code",
   "execution_count": null,
   "metadata": {
    "collapsed": true
   },
   "outputs": [],
   "source": []
  }
 ],
 "metadata": {
  "kernelspec": {
   "display_name": "Python 2",
   "language": "python",
   "name": "python2"
  },
  "language_info": {
   "codemirror_mode": {
    "name": "ipython",
    "version": 2
   },
   "file_extension": ".py",
   "mimetype": "text/x-python",
   "name": "python",
   "nbconvert_exporter": "python",
   "pygments_lexer": "ipython2",
   "version": "2.7.13"
  }
 },
 "nbformat": 4,
 "nbformat_minor": 2
}
