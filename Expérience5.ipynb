{
 "cells": [
  {
   "cell_type": "markdown",
   "metadata": {},
   "source": [
    "### Expérience 5 : \n",
    "Montrer que, selon la fréquentation, une épidémie peut provenir d'une zone de plus faible endémicité plutôt que celle à forte endémicité.\n",
    "mettre en évidence :\n",
    "- la faible efficacité d'une prévention basée seulement sur l'endémicité\n",
    "- le bénéfice de connaître les déplacements pour la prévention"
   ]
  },
  {
   "cell_type": "code",
   "execution_count": 3,
   "metadata": {
    "collapsed": false
   },
   "outputs": [],
   "source": [
    "import cPickle as pickle\n",
    "from Traces import lireTraces\n",
    "import matplotlib.pyplot as plt\n",
    "import numpy as np\n",
    "from PlotZone import *"
   ]
  },
  {
   "cell_type": "code",
   "execution_count": 7,
   "metadata": {
    "collapsed": false
   },
   "outputs": [
    {
     "data": {
      "text/plain": [
       "<matplotlib.legend.Legend at 0x7fb709b36510>"
      ]
     },
     "execution_count": 7,
     "metadata": {},
     "output_type": "execute_result"
    }
   ],
   "source": [
    "%matplotlib qt\n",
    "#%matplotlib inline\n",
    "\n",
    "path = \"./Experience5/\"\n",
    "\n",
    "fic = path + \"modele.p\"\n",
    "fh = open(fic)\n",
    "m = pickle.load(fh)\n",
    "fh.close()\n",
    "\n",
    "fic1 = path + \"modele_dem1.p\"\n",
    "fh1 = open(fic1)\n",
    "m1 = pickle.load(fh1)\n",
    "fh1.close()\n",
    "\n",
    "fic2 = path + \"modele_dem2.p\"\n",
    "fh2 = open(fic2)\n",
    "m2 = pickle.load(fh2)\n",
    "fh2.close()\n",
    "\n",
    "fic3 = path + \"modele_dem3.p\"\n",
    "fh3 = open(fic3)\n",
    "m3 = pickle.load(fh3)\n",
    "fh3.close()\n",
    "\n",
    "\n",
    "\n",
    "#on s'intéresse à la zone Z3\n",
    "zone = m.zones['Z3']\n",
    "zone1 = m1.zones['Z3']\n",
    "zone2 = m2.zones['Z3']\n",
    "zone3 = m3.zones['Z3']\n",
    "\n",
    "fig = plt.figure()\n",
    "labels = []\n",
    "\n",
    "time = zone.Ehr.keys()\n",
    "\n",
    "titre = u\"sans démoustication\"\n",
    "plt.plot(time, zone.Ehr.values(), label = titre, linewidth = 1.5)\n",
    "\n",
    "titre = u\"démoustication Z1 (K=0.7)\"\n",
    "plt.plot(time, zone1.Ehr.values(), label = titre, linewidth = 1.5)\n",
    "\n",
    "titre = u\"démoustication Z2 (K=0.5)\"\n",
    "plt.plot(time, zone2.Ehr.values(), label = titre, linewidth = 1.5)\n",
    "\n",
    "titre = u\"démoustication Z3 (K=0.3)\"\n",
    "plt.plot(time, zone3.Ehr.values(), label = titre, linewidth = 1.5)\n",
    "\n",
    "axes = plt.gca()\n",
    "axes.set_xlabel('Temps (jours)')\n",
    "axes.set_ylabel(u'Nombre de personnes exposés')\n",
    "plt.legend(loc = 'best')\n",
    "\n",
    "\n",
    "fig = plt.figure()\n",
    "labels = []\n",
    "\n",
    "time = zone.Ehr.keys()\n",
    "\n",
    "titre = u\"sans démoustication\"\n",
    "plt.plot(time, zone.Nv.values(), label = titre, linewidth = 1.5)\n",
    "\n",
    "titre = u\"démoustication Z1 (K=0.7)\"\n",
    "plt.plot(time, zone1.Nv.values(), label = titre, linewidth = 1.5)\n",
    "\n",
    "titre = u\"démoustication Z2 (K=0.5)\"\n",
    "plt.plot(time, zone2.Nv.values(), label = titre, linewidth = 1.5)\n",
    "\n",
    "titre = u\"démoustication Z3 (K=0.3)\"\n",
    "plt.plot(time, zone3.Nv.values(), label = titre, linewidth = 1.5)\n",
    "\n",
    "axes = plt.gca()\n",
    "axes.set_xlabel('Temps (jours)')\n",
    "axes.set_ylabel(u'Nombre de vecteurs infectés')\n",
    "plt.legend(loc = 'best')"
   ]
  },
  {
   "cell_type": "code",
   "execution_count": 6,
   "metadata": {
    "collapsed": false
   },
   "outputs": [
    {
     "data": {
      "text/plain": [
       "<matplotlib.legend.Legend at 0x7fb702bc75d0>"
      ]
     },
     "execution_count": 6,
     "metadata": {},
     "output_type": "execute_result"
    }
   ],
   "source": [
    "%matplotlib qt\n",
    "\n",
    "path = \"./Experience5/\"\n",
    "\n",
    "fic = path + \"modele.p\"\n",
    "fh = open(fic)\n",
    "m = pickle.load(fh)\n",
    "fh.close()\n",
    "\n",
    "fic1 = path + \"modele_dem1.p\"\n",
    "fh1 = open(fic1)\n",
    "m1 = pickle.load(fh1)\n",
    "fh1.close()\n",
    "\n",
    "fic2 = path + \"modele_dem2.p\"\n",
    "fh2 = open(fic2)\n",
    "m2 = pickle.load(fh2)\n",
    "fh2.close()\n",
    "\n",
    "fic3 = path + \"modele_dem3.p\"\n",
    "fh3 = open(fic3)\n",
    "m3 = pickle.load(fh3)\n",
    "fh3.close()\n",
    "\n",
    "zone = m.zones['Z1']\n",
    "zone1 = m1.zones['Z1']\n",
    "zone2 = m2.zones['Z1']\n",
    "zone3 = m3.zones['Z1']\n",
    "\n",
    "fig = plt.figure()\n",
    "labels = []\n",
    "\n",
    "time = zone.Ehr.keys()\n",
    "\n",
    "titre = u\"sans démoustication\"\n",
    "plt.plot(time, zone.Iv.values(), label = titre, linewidth = 1.5)\n",
    "\n",
    "titre = u\"démoustication Z1 (K=0.7)\"\n",
    "plt.plot(time, zone1.Iv.values(), label = titre, linewidth = 1.5)\n",
    "\n",
    "titre = u\"démoustication Z2 (K=0.5)\"\n",
    "plt.plot(time, zone2.Iv.values(), label = titre, linewidth = 1.5)\n",
    "\n",
    "titre = u\"démoustication Z3 (K=0.3)\"\n",
    "plt.plot(time, zone3.Iv.values(), label = titre, linewidth = 1.5)\n",
    "\n",
    "axes = plt.gca()\n",
    "axes.set_xlabel('Temps (jours)')\n",
    "axes.set_ylabel(u'Nombre de vecteurs infectés')\n",
    "plt.legend(loc = 'best')"
   ]
  },
  {
   "cell_type": "code",
   "execution_count": 13,
   "metadata": {
    "collapsed": false
   },
   "outputs": [
    {
     "name": "stdout",
     "output_type": "stream",
     "text": [
      "Z2\n",
      "Z1\n",
      "Z2\n",
      "Z3\n"
     ]
    }
   ],
   "source": [
    "print m.idDem\n",
    "print m1.idDem\n",
    "print m2.idDem\n",
    "print m3.idDem"
   ]
  },
  {
   "cell_type": "code",
   "execution_count": 14,
   "metadata": {
    "collapsed": false
   },
   "outputs": [
    {
     "name": "stdout",
     "output_type": "stream",
     "text": [
      "72\n",
      "72\n",
      "72\n",
      "72\n"
     ]
    }
   ],
   "source": [
    "print m.tDem\n",
    "print m1.tDem\n",
    "print m2.tDem\n",
    "print m3.tDem"
   ]
  },
  {
   "cell_type": "code",
   "execution_count": 11,
   "metadata": {
    "collapsed": false
   },
   "outputs": [
    {
     "name": "stdout",
     "output_type": "stream",
     "text": [
      "0.773522989432\n",
      "0.773522989432\n",
      "0.773522989432\n",
      "0.773522989432\n"
     ]
    }
   ],
   "source": [
    "print h.threshold\n",
    "print h1.threshold\n",
    "print h2.threshold\n",
    "print h3.threshold"
   ]
  },
  {
   "cell_type": "code",
   "execution_count": 12,
   "metadata": {
    "collapsed": false
   },
   "outputs": [
    {
     "name": "stdout",
     "output_type": "stream",
     "text": [
      "[('Z3', 0.6), ('Z1', 0.04000000000000001), ('Z2', 0.36000000000000004)]\n",
      "\n",
      "[('Z3', 0.6), ('Z1', 0.04000000000000001), ('Z2', 0.36000000000000004)]\n",
      "\n",
      "[('Z3', 0.6), ('Z1', 0.04000000000000001), ('Z2', 0.36000000000000004)]\n",
      "\n",
      "[('Z3', 0.6), ('Z1', 0.04000000000000001), ('Z2', 0.36000000000000004)]\n",
      "\n"
     ]
    }
   ],
   "source": [
    "print h.path[0]\n",
    "print\n",
    "print h1.path[0]\n",
    "print\n",
    "print h2.path[0]\n",
    "print\n",
    "print h3.path[0]\n",
    "print"
   ]
  },
  {
   "cell_type": "code",
   "execution_count": null,
   "metadata": {
    "collapsed": true
   },
   "outputs": [],
   "source": []
  },
  {
   "cell_type": "code",
   "execution_count": null,
   "metadata": {
    "collapsed": true
   },
   "outputs": [],
   "source": []
  },
  {
   "cell_type": "code",
   "execution_count": null,
   "metadata": {
    "collapsed": false
   },
   "outputs": [],
   "source": [
    "print np.sum(zone.Ehr.values())\n",
    "print np.sum(zone1.Ehr.values())\n",
    "print np.sum(zone2.Ehr.values())\n",
    "print np.sum(zone3.Ehr.values())"
   ]
  },
  {
   "cell_type": "code",
   "execution_count": null,
   "metadata": {
    "collapsed": false
   },
   "outputs": [],
   "source": [
    "%matplotlib qt\n",
    "#%matplotlib inline\n",
    "\n",
    "fig = plt.figure()\n",
    "labels = []\n",
    "\n",
    "time = zone.Ehr.keys()\n",
    "\n",
    "titre = u\"sans démoustication\"\n",
    "plt.plot(time, zone.Ihr.values(), label = titre, linewidth = 1.5)\n",
    "\n",
    "titre = u\"démoustication Z1 (K=0.7)\"\n",
    "plt.plot(time, zone1.Ihr.values(), label = titre, linewidth = 1.5)\n",
    "\n",
    "titre = u\"démoustication Z2 (K=0.5)\"\n",
    "plt.plot(time, zone2.Ihr.values(), label = titre, linewidth = 1.5)\n",
    "\n",
    "titre = u\"démoustication Z3 (K=0.3)\"\n",
    "plt.plot(time, zone3.Ihr.values(), label = titre, linewidth = 1.5)\n",
    "\n",
    "axes = plt.gca()\n",
    "axes.set_xlabel('Temps (jours)')\n",
    "axes.set_ylabel(u'Nombre de personnes exposés')\n",
    "plt.legend(loc = 'best')"
   ]
  },
  {
   "cell_type": "code",
   "execution_count": null,
   "metadata": {
    "collapsed": true
   },
   "outputs": [],
   "source": []
  },
  {
   "cell_type": "code",
   "execution_count": null,
   "metadata": {
    "collapsed": true
   },
   "outputs": [],
   "source": []
  },
  {
   "cell_type": "code",
   "execution_count": null,
   "metadata": {
    "collapsed": true
   },
   "outputs": [],
   "source": []
  },
  {
   "cell_type": "code",
   "execution_count": null,
   "metadata": {
    "collapsed": true
   },
   "outputs": [],
   "source": []
  },
  {
   "cell_type": "code",
   "execution_count": null,
   "metadata": {
    "collapsed": true
   },
   "outputs": [],
   "source": []
  },
  {
   "cell_type": "code",
   "execution_count": null,
   "metadata": {
    "collapsed": true
   },
   "outputs": [],
   "source": []
  },
  {
   "cell_type": "code",
   "execution_count": null,
   "metadata": {
    "collapsed": true
   },
   "outputs": [],
   "source": []
  },
  {
   "cell_type": "code",
   "execution_count": null,
   "metadata": {
    "collapsed": false
   },
   "outputs": [],
   "source": [
    "%matplotlib qt\n",
    "#%matplotlib inline\n",
    "\n",
    "path = \"./Experience5/\"\n",
    "\n",
    "fic = path + \"modele.p\"\n",
    "fh = open(fic)\n",
    "m = pickle.load(fh)\n",
    "fh.close()\n",
    "\n",
    "fic1 = path + \"modele_dem1.p\"\n",
    "fh1 = open(fic1)\n",
    "m1 = pickle.load(fh1)\n",
    "fh1.close()\n",
    "\n",
    "fic2 = path + \"modele_dem2.p\"\n",
    "fh2 = open(fic2)\n",
    "m2 = pickle.load(fh2)\n",
    "fh2.close()\n",
    "\n",
    "fig = plt.figure()\n",
    "labels = []\n",
    "\n",
    "#on s'intéresse à la zone Z3\n",
    "zone = m.zones['Z3']\n",
    "zone1 = m1.zones['Z3']\n",
    "zone2 = m2.zones['Z3']\n",
    "\n",
    "time = zone.Ehr.keys()\n",
    "\n",
    "titre = u\"sans démoustication\"\n",
    "plt.plot(time, zone.Ehr.values(), label = titre, linewidth = 1.5)\n",
    "\n",
    "titre = u\"démoustication Z1 (K=0.7)\"\n",
    "plt.plot(time, zone1.Ehr.values(), label = titre, linewidth = 1.5)\n",
    "\n",
    "titre = u\"démoustication Z2 (K=0.5)\"\n",
    "plt.plot(time, zone2.Ehr.values(), label = titre, linewidth = 1.5)\n",
    "\n",
    "axes = plt.gca()\n",
    "axes.set_xlabel('Temps (jours)')\n",
    "axes.set_ylabel(u'Nombre de personnes exposés')\n",
    "plt.legend(loc = 'best')"
   ]
  },
  {
   "cell_type": "code",
   "execution_count": null,
   "metadata": {
    "collapsed": false
   },
   "outputs": [],
   "source": [
    "print zone.Ihr\n",
    "print\n",
    "print zone1.Ihr\n",
    "print\n",
    "print zone2.Ihr\n",
    "print\n",
    "print zone3.Ihr"
   ]
  },
  {
   "cell_type": "code",
   "execution_count": null,
   "metadata": {
    "collapsed": false
   },
   "outputs": [],
   "source": [
    "%matplotlib qt\n",
    "#%matplotlib inline\n",
    "\n",
    "\n",
    "fig = plt.figure()\n",
    "labels = []\n",
    "\n",
    "time = zone.Ehr.keys()\n",
    "\n",
    "titre = u\"sans démoustication\"\n",
    "plt.plot(time, zone.Ihr.values(), label = titre, linewidth = 1.5)\n",
    "\n",
    "titre = u\"démoustication Z1 (K=0.7)\"\n",
    "plt.plot(time, zone1.Ihr.values(), label = titre, linewidth = 1.5)\n",
    "\n",
    "titre = u\"démoustication Z2 (K=0.5)\"\n",
    "plt.plot(time, zone2.Ihr.values(), label = titre, linewidth = 1.5)\n",
    "\n",
    "axes = plt.gca()\n",
    "axes.set_xlabel('Temps (jours)')\n",
    "axes.set_ylabel(u'Nombre de personnes exposés')\n",
    "plt.legend(loc = 'best')"
   ]
  }
 ],
 "metadata": {
  "kernelspec": {
   "display_name": "Python 2",
   "language": "python",
   "name": "python2"
  },
  "language_info": {
   "codemirror_mode": {
    "name": "ipython",
    "version": 2
   },
   "file_extension": ".py",
   "mimetype": "text/x-python",
   "name": "python",
   "nbconvert_exporter": "python",
   "pygments_lexer": "ipython2",
   "version": "2.7.13"
  }
 },
 "nbformat": 4,
 "nbformat_minor": 2
}
