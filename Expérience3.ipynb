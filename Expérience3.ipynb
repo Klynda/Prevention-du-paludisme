{
 "cells": [
  {
   "cell_type": "markdown",
   "metadata": {},
   "source": [
    "### Expérience 3 : \n",
    "Impact d'une démoustication (goal2 - b)}\\\\\n",
    "On fixe le taux de fréquentation de la zone à très fréquentée (Quels sont les critères pour définir le degré de fréquentation d'une zone?).\\\\\n",
    "On dispose de 2 zones. 1 zone de résidence (1000 individus) et 1 zone de rencontre (0 résident afin de mieux contrôler le nombre d'infectés dans cette zone). \n",
    "On fait tourner le modèle pendant 100 jours avec un déplacement régulier des résidents vers la zone de rencontre puis on effectue une démoustication à j=100.\\\\\n",
    "\n",
    "On considère que la démoustication a éliminer 95\\% des vecteurs}\\\\\n",
    "Dans ce cas, on garde les valeurs des paramètres de la zone de rencontre après la démoustication. Puis, on réinitialise la zone de résidence en fonction du taux d'individus infectieux se déplaçant désiré. Pour garder le taux d'infectieux désiré constant tout au long de la deuxième phase de l'expérience, on considère que les individus sains qui se déplacent utilisent une mesure de protection efficace à 100\\%. (autrement dit, leur probabilité de devenir exposé est toujours nulle)\n",
    "\n",
    "On considère que 50\\% des individus se déplacent depuis leur lieu de résidence vers le point de rencontre avec une durée de séjour fixée à 0,4. Sur ces 500 personnes se rendant dans la zone de rencontre (équivaut à 200 pn.), on fait varier le pourcentage de personnes infectés de 0 à 100\\%. On calcul la proportion de vecteurs infectés (je pense que c'est un meilleure indicateur car la force d'infection vecteurs-humains dépend du nombre de visite qui détermine le nombre de contacts tandis que la proportion de vecteurs infectieux est propre à la zone) du point de rencontre au $200^{eme}$ jour.\n"
   ]
  },
  {
   "cell_type": "code",
   "execution_count": 5,
   "metadata": {
    "collapsed": false
   },
   "outputs": [],
   "source": [
    "import cPickle as pickle\n",
    "from Traces import lireTraces\n",
    "import matplotlib.pyplot as plt\n",
    "import numpy as np\n",
    "from PlotZone import *"
   ]
  },
  {
   "cell_type": "markdown",
   "metadata": {},
   "source": [
    "afficher le taux de vecteurs infectés en fonction du taux d'individus infectueux s'étant rendu dans la zone de rencontre après la démoustication"
   ]
  },
  {
   "cell_type": "code",
   "execution_count": 2,
   "metadata": {
    "collapsed": false
   },
   "outputs": [
    {
     "data": {
      "text/plain": [
       "<matplotlib.legend.Legend at 0x7f287eab7350>"
      ]
     },
     "execution_count": 2,
     "metadata": {},
     "output_type": "execute_result"
    }
   ],
   "source": [
    "%matplotlib qt\n",
    "#%matplotlib inline\n",
    "\n",
    "path2 = \"./Experience3/etape2/\"\n",
    "\n",
    "fig = plt.figure()\n",
    "labels = []\n",
    "colors = ['gray', 'firebrick', 'sienna', 'orange', 'olive', 'darkgreen', 'darkcyan', 'royalblue', 'blue', 'indigo', 'm']\n",
    "for i in range(11):\n",
    "    fic2 = path2 + \"zone\"+str(i)+\".p\"\n",
    "    fh2 = open(fic2)\n",
    "    zone = pickle.load(fh2)\n",
    "    fh2.close()\n",
    "    \n",
    "    time = zone.Iv.keys()\n",
    "    Iv = zone.Iv.values()\n",
    "    nv = zone.Nv.values()\n",
    "    \n",
    "    taux = [float(iv)/n for iv, n in zip(Iv, nv)]\n",
    "    \n",
    "    plt.plot(time, taux)\n",
    "    titre = \"Ih = \"+str((10*i))+\"%\"\n",
    "    labels.append(titre)\n",
    "\n",
    "axes = plt.gca()\n",
    "'''\n",
    "axes.set_xlabel('time (days)')\n",
    "axes.set_ylabel('Infectious vector rate')\n",
    "'''\n",
    "axes.set_xlabel('temps (jours)')\n",
    "axes.set_ylabel(u'taux de vecteurs infectés')\n",
    "plt.legend(labels, loc = 'best')\n",
    "\n"
   ]
  },
  {
   "cell_type": "markdown",
   "metadata": {},
   "source": [
    "Nombre de vecteur en fonction du taux de Ih entrant dans la zone de rencontre après la démoustication"
   ]
  },
  {
   "cell_type": "code",
   "execution_count": 13,
   "metadata": {
    "collapsed": false
   },
   "outputs": [
    {
     "data": {
      "text/plain": [
       "<matplotlib.legend.Legend at 0x7f285dff8dd0>"
      ]
     },
     "execution_count": 13,
     "metadata": {},
     "output_type": "execute_result"
    }
   ],
   "source": [
    "%matplotlib qt\n",
    "#%matplotlib inline\n",
    "\n",
    "path2 = \"./Experience3/etape2/\"\n",
    "\n",
    "fig = plt.figure()\n",
    "labels = []\n",
    "colors = ['gray', 'firebrick', 'sienna', 'orange', 'olive', 'darkgreen', 'darkcyan', 'royalblue', 'blue', 'indigo', 'm']\n",
    "for i in range(11):\n",
    "    fic2 = path2 + \"zone\"+str(i)+\".p\"\n",
    "    fh2 = open(fic2)\n",
    "    zone = pickle.load(fh2)\n",
    "    fh2.close()\n",
    "    \n",
    "    time = zone.Iv.keys()\n",
    "    Iv = zone.Iv.values()\n",
    "    plt.plot(time, Iv, color=colors[i], linewidth = 1.5)\n",
    "    titre = \"Ih = \"+str((10*i))+\"%\"\n",
    "    labels.append(titre)\n",
    "\n",
    "axes = plt.gca()\n",
    "'''\n",
    "axes.set_xlabel('time (days)')\n",
    "axes.set_ylabel('Number of infectious vectors')\n",
    "'''\n",
    "axes.set_xlabel('temps (jours)')\n",
    "axes.set_ylabel(u'Nombre de vecteurs infectés')\n",
    "plt.legend(labels, loc = 'best')\n",
    "\n"
   ]
  },
  {
   "cell_type": "code",
   "execution_count": 12,
   "metadata": {
    "collapsed": false
   },
   "outputs": [
    {
     "data": {
      "text/plain": [
       "<matplotlib.legend.Legend at 0x7f285e0bbc90>"
      ]
     },
     "execution_count": 12,
     "metadata": {},
     "output_type": "execute_result"
    }
   ],
   "source": [
    "%matplotlib qt\n",
    "#%matplotlib inline\n",
    "\n",
    "path2 = \"./Experience3/etape2/\"\n",
    "\n",
    "pn = [0, 20, 40, 60, 80, 100, 120, 140, 160, 180, 200]\n",
    "taux = []\n",
    "\n",
    "fig = plt.figure()\n",
    "labels = []\n",
    "for i in range(11):\n",
    "    fic2 = path2 + \"zone\"+str(i)+\".p\"\n",
    "    fh2 = open(fic2)\n",
    "    zone = pickle.load(fh2)\n",
    "    fh2.close()\n",
    "    Iv = zone.Iv.values()[200]\n",
    "    Nv = zone.Nv.values()[200]\n",
    "    \n",
    "    taux.append(Iv/Nv)\n",
    "    \n",
    "    \n",
    "plt.plot(pn, taux)\n",
    "\n",
    "axes = plt.gca()\n",
    "\n",
    "axes.set_xlabel(u\"Personnes infectés (quantité de présence en pn.)\")\n",
    "axes.set_ylabel(u'Taux de vecteurs infectés')\n",
    "'''\n",
    "axes.set_xlabel('Infectious personnes (pn.)')\n",
    "axes.set_ylabel('Infectious vector rate')\n",
    "'''\n",
    "plt.legend(labels, loc = 'best')\n",
    "\n"
   ]
  },
  {
   "cell_type": "code",
   "execution_count": null,
   "metadata": {
    "collapsed": true
   },
   "outputs": [],
   "source": []
  }
 ],
 "metadata": {
  "kernelspec": {
   "display_name": "Python 2",
   "language": "python",
   "name": "python2"
  },
  "language_info": {
   "codemirror_mode": {
    "name": "ipython",
    "version": 2
   },
   "file_extension": ".py",
   "mimetype": "text/x-python",
   "name": "python",
   "nbconvert_exporter": "python",
   "pygments_lexer": "ipython2",
   "version": "2.7.13"
  }
 },
 "nbformat": 4,
 "nbformat_minor": 2
}
