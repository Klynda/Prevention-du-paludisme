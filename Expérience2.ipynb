{
 "cells": [
  {
   "cell_type": "markdown",
   "metadata": {},
   "source": [
    "### Expérience 2 : \n",
    "Soient 2 zones : un point de rencontre 'Z1', et une zone de résidence 'Z2'\n",
    "La zone Z2 contient 1000 individus\n",
    "Z1 n'en contient aucun, cependant au vu des déplacements d'individus vers cette zone sa population de vecteurs et infectée à 80% (cela revient dans le cas de notre modèle à initiliatiser la force d'infection à environ 0.5) cf evolution des force d'infection en annexe\n",
    "\n",
    "On considère deux cas différents :\n",
    "Le premier : un groupe d'individu distinct de 100 personnes se  déplace chaque jour vers le point de rencontre 'Z1' pendant 10 jours puis plus personne ne se déplace le reste du temps\n",
    "\n",
    "le deuxième : le même groupe d'individus (100 personnes) se déplacent vers le point de rencontre pendant les 50 premiers jours puis plus personne ne se déplace le reste du temps\n",
    "\n",
    "But 2: Mesurer le bénéfice de la mobilité individuelle pour les actions de lutte contre le paludisme}\n",
    "Attente: démontrer que l'information sur la mobilité individuelle améliore l'efficacité des actions de lutte contre le paludisme.\n",
    "\n",
    "Il existe deux types d'actions de lutte contre le paludisme. Ils visent soit une zone, soit une personne:\n",
    "- Un {action d'éradication} (\\ ie suppression de moustiques) consiste à supprimer la plupart des vecteurs dans une zone.\n",
    "- A {action préventive} consiste à convaincre quelqu'un d'utiliser des moustiquaires répulsives et des moustiquaires pour éviter les piqûres de moustiques dans une zone spécifique.\n",
    "\n",
    "Notez que ces actions ont un coût monétaire et humain pour les autorités chargées de leur mise en œuvre. Nous supposons que ce coût augmente de façon monotone avec le nombre de personnes sur lesquelles agir. {\\ Small Détail de ce coût est hors de la portée de ce travail.}\n",
    "\n",
    "\n",
    "Considérons une action de contrôle du paludisme appliquée pendant une campagne d'une période donnée. La campagne se compose de deux intervalles de temps consécutifs: \n",
    "\n",
    "la fente avant l'action au cours de laquelle la maladie apparaît, \n",
    "\n",
    "et une fente après l'action pendant laquelle l'effet de l'action peut être observé.\n",
    "\n",
    "Généralement, une campagne dure une saison ou quelques mois.\n",
    "Laissez quantifier l'efficacité d'une action en comptant le nombre de personnes exposées à la fin de la campagne (c'est-à-dire la même mesure que dans l'expérience ~ \\ ref {sec: exp1}).\n",
    "\n",
    "\n",
    "{Impact de l'évolution de l'efficacité d'une action anti-moustique}\n",
    "\n",
    "Tout d'abord, nous montrons qu'une action anti-moustique perd l'efficacité si, une fois que la zone a été traitée, de nombreuses personnes infectées vivent encore ou entrent dans la région, car cela augmente le nombre de vecteurs infectés dans cette zone. Pour enquêter sur ce phénomène dans des détails plus approfondis, nous modifions le nombre de personnes qui visitent la zone traitée.\n",
    "Nous observons que dans le cas de nombreuses visites (zone de rencontre populaire), la zone devient plus rapidement infectée.\n",
    "À l'inverse, nous observons que pour un cas avec peu de visites, la zone reste peu infectée pendant plus longtemps.\n",
    "\n",
    "\n",
    "Nous fixons maintenant la popularité de la région à \"nombreuses visites\" et observons l'effet de l'état du visiteur (p. Ex. Sain ou infecté) sur la zone traitée.\n",
    "Plus précisément, nous observons que la zone devient plus rapide si les visiteurs sont principalement infectés par rapport aux visiteurs en majorité sains. Cela démontre la nécessité d'une information de mobilité axée sur l'utilisateur capturant l'utilisateur\n",
    "État (sain ou infecté) des visiteurs.\n",
    "% Nous signalons également le nombre de personnes infectées qui se trouvaient dans la région après l'action de suppression des moustiques. Nous observons à quelle vitesse la zone devient fortement infectée à nouveau en fonction du nombre de personnes infectées.\n"
   ]
  },
  {
   "cell_type": "code",
   "execution_count": null,
   "metadata": {
    "collapsed": false
   },
   "outputs": [],
   "source": [
    "import cPickle as pickle\n",
    "from Traces import lireTraces\n",
    "import matplotlib.pyplot as plt\n",
    "import numpy as np\n",
    "from PlotZone import *"
   ]
  },
  {
   "cell_type": "code",
   "execution_count": null,
   "metadata": {
    "collapsed": true
   },
   "outputs": [],
   "source": [
    "%matplotlib qt\n",
    "#%matplotlib inline\n",
    "\n",
    "#nombre de pas de temps\n",
    "nbStep = 100\n",
    "#nombre de zones\n",
    "N = 2\n",
    "#nombre de points de rencontre PR\n",
    "pointRencontre = 1\n",
    "#nombre d'individus\n",
    "M=1001\n",
    "#Sera fait 'à la main' sans tenir compte de la valeur\n",
    "tauxH_PR = 0.\n",
    "#Sera fait 'à la main' sans tenir compte de la valeur\n",
    "tauxDeplacement = 0.1\n",
    "#Durée passée hors du lieu de résidence\n",
    "tauxSejour = 0.4\n",
    "\n",
    "\n",
    "path  = \"./Experience2/Etat/\"\n",
    "\n",
    "rep1 = path + \"10persDiff/\"\n",
    "fic1 = rep1+ str(N)+\"zones_\"+str(M)+\"Individus_\"+str(pointRencontre)+\"pointRencontre_deplacement\"+str(tauxSejour)+\".p\"\n",
    "fh1 = open(fic1)\n",
    "m1 = pickle.load(fh1)\n",
    "fh1.close()\n",
    "\n",
    "rep2 = path + \"10persIdentiq/\"\n",
    "fic2 = rep2+ str(N)+\"zones_\"+str(M)+\"Individus_\"+str(pointRencontre)+\"pointRencontre_deplacement\"+str(tauxSejour)+\".p\"\n",
    "fh2 = open(fic2)\n",
    "m2 = pickle.load(fh2)\n",
    "fh2.close()"
   ]
  },
  {
   "cell_type": "code",
   "execution_count": null,
   "metadata": {
    "collapsed": true
   },
   "outputs": [],
   "source": [
    "zones1 = m1.getZones()\n",
    "humans1 = m1.getHumans()\n",
    "\n",
    "zones2 = m2.getZones()\n",
    "humans2 = m2.getHumans()"
   ]
  },
  {
   "cell_type": "code",
   "execution_count": null,
   "metadata": {
    "collapsed": true
   },
   "outputs": [],
   "source": [
    "plot_EHr(zones1['Z2'], rep1, tauxSejour)\n",
    "plot_EH0(zones1['Z2'], rep1, tauxSejour)\n",
    "plot_EHr(zones2['Z2'], rep2, tauxSejour)\n",
    "plot_EH0(zones2['Z2'], rep2, tauxSejour)"
   ]
  },
  {
   "cell_type": "code",
   "execution_count": null,
   "metadata": {
    "collapsed": true
   },
   "outputs": [],
   "source": [
    "from PlotZone import *\n",
    "plot_IH(zones1['Z2'], rep1, tauxSejour)\n",
    "plot_IH(zones2['Z2'], rep2, tauxSejour)"
   ]
  },
  {
   "cell_type": "code",
   "execution_count": null,
   "metadata": {
    "collapsed": true
   },
   "outputs": [],
   "source": [
    "#affiche la proportion de résidents exposés et infectés de la zone au cours du temps\n",
    "    \n",
    "def plot_Er_Ir(zone, rep, ts):\n",
    "    labels = []\n",
    "    fig = plt.figure()\n",
    "    \n",
    "    Ehr = zone.Ehr.values()\n",
    "    Ihr = zone.Ihr.values()\n",
    "    \n",
    "    idZ = zone.getId()\n",
    "    \n",
    "    plt.plot(zone.Ehr.keys(), Ehr, color = \"orange\")\n",
    "    labels.append(u\"Personnes exopsés\")\n",
    "    \n",
    "    plt.plot(zone.Ihr.keys(), Ihr, color = \"red\")\n",
    "    labels.append(u\"Personnes infectés \")\n",
    "   \n",
    "    plt.legend(labels, loc = 'best')\n",
    "    \n",
    "    axes = plt.gca()\n",
    "    axes.set_xlabel('temps (jour)')\n",
    "    axes.set_ylabel(\"Nombre de personnes\")\n",
    "    fig.savefig(rep+\"zone\"+idZ+\"_Ehr\")"
   ]
  },
  {
   "cell_type": "code",
   "execution_count": null,
   "metadata": {
    "collapsed": false
   },
   "outputs": [],
   "source": [
    "plot_Er_Ir(zones1['Z2'], rep1, tauxSejour)\n",
    "plot_Er_Ir(zones2['Z2'], rep2, tauxSejour)"
   ]
  },
  {
   "cell_type": "code",
   "execution_count": null,
   "metadata": {
    "collapsed": false
   },
   "outputs": [],
   "source": [
    "ecas1= zones1['Z2'].Ehr\n",
    "print ecas1"
   ]
  },
  {
   "cell_type": "code",
   "execution_count": null,
   "metadata": {
    "collapsed": false
   },
   "outputs": [],
   "source": [
    "ecas2 = zones2['Z2'].Ehr\n",
    "print ecas2"
   ]
  },
  {
   "cell_type": "code",
   "execution_count": null,
   "metadata": {
    "collapsed": false
   },
   "outputs": [],
   "source": [
    "e0cas1 = zones1['Z2'].Eh0\n",
    "print e0cas1"
   ]
  },
  {
   "cell_type": "code",
   "execution_count": null,
   "metadata": {
    "collapsed": false
   },
   "outputs": [],
   "source": [
    "e0cas2 = zones2['Z2'].Eh0\n",
    "print e0cas2"
   ]
  },
  {
   "cell_type": "code",
   "execution_count": null,
   "metadata": {
    "collapsed": false
   },
   "outputs": [],
   "source": [
    "e0 = e0cas2.values()[0:11]\n",
    "np.sum(e0)"
   ]
  },
  {
   "cell_type": "code",
   "execution_count": null,
   "metadata": {
    "collapsed": false
   },
   "outputs": [],
   "source": [
    "e0 = e0cas1.values()[0:11]\n",
    "np.sum(e0)"
   ]
  },
  {
   "cell_type": "code",
   "execution_count": null,
   "metadata": {
    "collapsed": true
   },
   "outputs": [],
   "source": [
    "plot_AllPropIH(zones1, rep1, tauxSejour)\n",
    "plot_AllPropEHr(zones1, rep1, tauxSejour)\n",
    "plot_AllPropE0(zones1, rep1, tauxSejour)"
   ]
  },
  {
   "cell_type": "code",
   "execution_count": null,
   "metadata": {
    "collapsed": true
   },
   "outputs": [],
   "source": [
    "plot_AllPropIH(zones2, rep2, tauxSejour)\n",
    "plot_AllPropEHr(zones2, rep2, tauxSejour)\n",
    "plot_AllPropE0(zones2, rep2, tauxSejour)"
   ]
  },
  {
   "cell_type": "code",
   "execution_count": null,
   "metadata": {
    "collapsed": true
   },
   "outputs": [],
   "source": [
    "cumul1 = np.sum(zones1['Z2'].Ehr.values())\n",
    "cumul2 = np.sum(zones2['Z2'].Ehr.values())\n",
    "\n",
    "print cumul1\n",
    "print cumul2"
   ]
  }
 ],
 "metadata": {
  "kernelspec": {
   "display_name": "Python 2",
   "language": "python",
   "name": "python2"
  },
  "language_info": {
   "codemirror_mode": {
    "name": "ipython",
    "version": 2
   },
   "file_extension": ".py",
   "mimetype": "text/x-python",
   "name": "python",
   "nbconvert_exporter": "python",
   "pygments_lexer": "ipython2",
   "version": "2.7.13"
  }
 },
 "nbformat": 4,
 "nbformat_minor": 2
}
