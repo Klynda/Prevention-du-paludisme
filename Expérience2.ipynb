{
 "cells": [
  {
   "cell_type": "markdown",
   "metadata": {},
   "source": [
    "### Expérience 2 : \n",
    "Soient 2 zones : un point de rencontre 'Z1', et une zone de résidence 'Z2'\n",
    "La zone Z2 contient 1000 individus\n",
    "Z1 n'en contient aucun, cependant au vu des déplacements d'individus vers cette zone sa population de vecteurs et infectée à 80% (cela revient dans le cas de notre modèle à initiliatiser la force d'infection à environ 0.5) cf evolution des force d'infection en annexe\n",
    "\n",
    "On considère deux cas différents :\n",
    "Le premier : un groupe d'individu distinct de 100 personnes se  déplace chaque jour vers le point de rencontre 'Z1' pendant 10 jours puis plus personne ne se déplace le reste du temps\n",
    "\n",
    "le deuxième : le même groupe d'individus (100 personnes) se déplacent vers le point de rencontre pendant les 50 premiers jours puis plus personne ne se déplace le reste du temps\n",
    "\n",
    "But 2: Mesurer le bénéfice de la mobilité individuelle pour les actions de lutte contre le paludisme}\n",
    "Attente: démontrer que l'information sur la mobilité individuelle améliore l'efficacité des actions de lutte contre le paludisme.\n",
    "\n",
    "Il existe deux types d'actions de lutte contre le paludisme. Ils visent soit une zone, soit une personne:\n",
    "- Un {action d'éradication} (\\ ie suppression de moustiques) consiste à supprimer la plupart des vecteurs dans une zone.\n",
    "- A {action préventive} consiste à convaincre quelqu'un d'utiliser des moustiquaires répulsives et des moustiquaires pour éviter les piqûres de moustiques dans une zone spécifique.\n",
    "\n",
    "Notez que ces actions ont un coût monétaire et humain pour les autorités chargées de leur mise en œuvre. Nous supposons que ce coût augmente de façon monotone avec le nombre de personnes sur lesquelles agir. {\\ Small Détail de ce coût est hors de la portée de ce travail.}\n",
    "\n",
    "\n",
    "Considérons une action de contrôle du paludisme appliquée pendant une campagne d'une période donnée. La campagne se compose de deux intervalles de temps consécutifs: \n",
    "\n",
    "la fente avant l'action au cours de laquelle la maladie apparaît, \n",
    "\n",
    "et une fente après l'action pendant laquelle l'effet de l'action peut être observé.\n",
    "\n",
    "Généralement, une campagne dure une saison ou quelques mois.\n",
    "Laissez quantifier l'efficacité d'une action en comptant le nombre de personnes exposées à la fin de la campagne (c'est-à-dire la même mesure que dans l'expérience ~ \\ ref {sec: exp1}).\n",
    "\n",
    "\n",
    "{Impact de l'évolution de l'efficacité d'une action anti-moustique}\n",
    "\n",
    "Tout d'abord, nous montrons qu'une action anti-moustique perd l'efficacité si, une fois que la zone a été traitée, de nombreuses personnes infectées vivent encore ou entrent dans la région, car cela augmente le nombre de vecteurs infectés dans cette zone. Pour enquêter sur ce phénomène dans des détails plus approfondis, nous modifions le nombre de personnes qui visitent la zone traitée.\n",
    "Nous observons que dans le cas de nombreuses visites (zone de rencontre populaire), la zone devient plus rapidement infectée.\n",
    "À l'inverse, nous observons que pour un cas avec peu de visites, la zone reste peu infectée pendant plus longtemps.\n",
    "\n",
    "\n",
    "Nous fixons maintenant la popularité de la région à \"nombreuses visites\" et observons l'effet de l'état du visiteur (p. Ex. Sain ou infecté) sur la zone traitée.\n",
    "Plus précisément, nous observons que la zone devient plus rapide si les visiteurs sont principalement infectés par rapport aux visiteurs en majorité sains. Cela démontre la nécessité d'une information de mobilité axée sur l'utilisateur capturant l'utilisateur\n",
    "État (sain ou infecté) des visiteurs.\n",
    "% Nous signalons également le nombre de personnes infectées qui se trouvaient dans la région après l'action de suppression des moustiques. Nous observons à quelle vitesse la zone devient fortement infectée à nouveau en fonction du nombre de personnes infectées.\n"
   ]
  },
  {
   "cell_type": "code",
   "execution_count": 1,
   "metadata": {
    "collapsed": false
   },
   "outputs": [
    {
     "name": "stderr",
     "output_type": "stream",
     "text": [
      "/home/khiri/anaconda2/lib/python2.7/site-packages/matplotlib/font_manager.py:273: UserWarning: Matplotlib is building the font cache using fc-list. This may take a moment.\n",
      "  warnings.warn('Matplotlib is building the font cache using fc-list. This may take a moment.')\n"
     ]
    }
   ],
   "source": [
    "import cPickle as pickle\n",
    "from Traces import lireTraces\n",
    "import matplotlib.pyplot as plt\n",
    "import numpy as np\n",
    "from PlotZone import *"
   ]
  },
  {
   "cell_type": "code",
   "execution_count": 2,
   "metadata": {
    "collapsed": true
   },
   "outputs": [],
   "source": [
    "%matplotlib qt\n",
    "#%matplotlib inline\n",
    "\n",
    "#nombre de pas de temps\n",
    "nbStep = 100\n",
    "#nombre de zones\n",
    "N = 2\n",
    "#nombre de points de rencontre PR\n",
    "pointRencontre = 1\n",
    "#nombre d'individus\n",
    "M=1001\n",
    "#Sera fait 'à la main' sans tenir compte de la valeur\n",
    "tauxH_PR = 0.\n",
    "#Sera fait 'à la main' sans tenir compte de la valeur\n",
    "tauxDeplacement = 0.1\n",
    "#Durée passée hors du lieu de résidence\n",
    "tauxSejour = 0.4\n",
    "\n",
    "\n",
    "path  = \"./Experience2/Etat/\"\n",
    "\n",
    "rep1 = path + \"10persDiff/\"\n",
    "fic1 = rep1+ str(N)+\"zones_\"+str(M)+\"Individus_\"+str(pointRencontre)+\"pointRencontre_deplacement\"+str(tauxSejour)+\".p\"\n",
    "fh1 = open(fic1)\n",
    "m1 = pickle.load(fh1)\n",
    "fh1.close()\n",
    "\n",
    "rep2 = path + \"10persIdentiq/\"\n",
    "fic2 = rep2+ str(N)+\"zones_\"+str(M)+\"Individus_\"+str(pointRencontre)+\"pointRencontre_deplacement\"+str(tauxSejour)+\".p\"\n",
    "fh2 = open(fic2)\n",
    "m2 = pickle.load(fh2)\n",
    "fh2.close()"
   ]
  },
  {
   "cell_type": "code",
   "execution_count": 3,
   "metadata": {
    "collapsed": true
   },
   "outputs": [],
   "source": [
    "zones1 = m1.getZones()\n",
    "humans1 = m1.getHumans()\n",
    "\n",
    "zones2 = m2.getZones()\n",
    "humans2 = m2.getHumans()"
   ]
  },
  {
   "cell_type": "code",
   "execution_count": 4,
   "metadata": {
    "collapsed": true
   },
   "outputs": [],
   "source": [
    "plot_EHr(zones1['Z2'], rep1, tauxSejour)\n",
    "plot_EH0(zones1['Z2'], rep1, tauxSejour)\n",
    "plot_EHr(zones2['Z2'], rep2, tauxSejour)\n",
    "plot_EH0(zones2['Z2'], rep2, tauxSejour)"
   ]
  },
  {
   "cell_type": "code",
   "execution_count": 5,
   "metadata": {
    "collapsed": true
   },
   "outputs": [],
   "source": [
    "from PlotZone import *\n",
    "plot_IH(zones1['Z2'], rep1, tauxSejour)\n",
    "plot_IH(zones2['Z2'], rep2, tauxSejour)"
   ]
  },
  {
   "cell_type": "code",
   "execution_count": 22,
   "metadata": {
    "collapsed": true
   },
   "outputs": [],
   "source": [
    "#affiche la proportion de résidents exposés et infectés de la zone au cours du temps\n",
    "    \n",
    "def plot_Er_Ir(zone, rep, ts):\n",
    "    labels = []\n",
    "    fig = plt.figure()\n",
    "    \n",
    "    Ehr = zone.Ehr.values()\n",
    "    Ihr = zone.Ihr.values()\n",
    "    \n",
    "    idZ = zone.getId()\n",
    "    \n",
    "    plt.plot(zone.Ehr.keys(), Ehr, color = \"orange\")\n",
    "    labels.append(u\"Personnes exopsés\")\n",
    "    \n",
    "    plt.plot(zone.Ihr.keys(), Ihr, color = \"red\")\n",
    "    labels.append(u\"Personnes infectés \")\n",
    "   \n",
    "    plt.legend(labels, loc = 'best')\n",
    "    \n",
    "    axes = plt.gca()\n",
    "    axes.set_xlabel('temps (jour)')\n",
    "    axes.set_ylabel(\"Nombre de personnes\")\n",
    "    fig.savefig(rep+\"zone\"+idZ+\"_Ehr\")"
   ]
  },
  {
   "cell_type": "code",
   "execution_count": 24,
   "metadata": {
    "collapsed": false
   },
   "outputs": [],
   "source": [
    "plot_Er_Ir(zones1['Z2'], rep1, tauxSejour)\n",
    "plot_Er_Ir(zones2['Z2'], rep2, tauxSejour)"
   ]
  },
  {
   "cell_type": "code",
   "execution_count": 18,
   "metadata": {
    "collapsed": false
   },
   "outputs": [
    {
     "name": "stdout",
     "output_type": "stream",
     "text": [
      "{0: 0, 1: 0, 2: 15, 3: 29, 4: 40, 5: 61, 6: 74, 7: 89, 8: 112, 9: 127, 10: 136, 11: 154, 12: 139, 13: 125, 14: 114, 15: 93, 16: 80, 17: 65, 18: 42, 19: 27, 20: 19, 21: 1, 22: 1, 23: 3, 24: 3, 25: 6, 26: 9, 27: 9, 28: 11, 29: 14, 30: 15, 31: 17, 32: 20, 33: 20, 34: 26, 35: 31, 36: 30, 37: 36, 38: 40, 39: 44, 40: 49, 41: 55, 42: 58, 43: 64, 44: 69, 45: 68, 46: 74, 47: 83, 48: 88, 49: 94, 50: 94, 51: 98, 52: 102, 53: 104, 54: 101, 55: 111, 56: 115, 57: 113, 58: 117, 59: 110, 60: 115, 61: 117, 62: 117, 63: 117, 64: 121, 65: 124, 66: 131, 67: 131, 68: 137, 69: 144, 70: 144, 71: 141, 72: 146, 73: 146, 74: 143, 75: 130, 76: 126, 77: 125, 78: 116, 79: 114, 80: 110, 81: 119, 82: 110, 83: 114, 84: 121, 85: 120, 86: 115, 87: 111, 88: 112, 89: 111, 90: 114, 91: 102, 92: 100, 93: 97, 94: 92, 95: 100, 96: 101, 97: 99, 98: 90, 99: 86, 100: 84}\n"
     ]
    }
   ],
   "source": [
    "ecas1= zones1['Z2'].Ehr\n",
    "print ecas1"
   ]
  },
  {
   "cell_type": "code",
   "execution_count": 19,
   "metadata": {
    "collapsed": false
   },
   "outputs": [
    {
     "name": "stdout",
     "output_type": "stream",
     "text": [
      "{0: 0, 1: 0, 2: 22, 3: 34, 4: 42, 5: 51, 6: 52, 7: 62, 8: 66, 9: 68, 10: 69, 11: 75, 12: 53, 13: 41, 14: 33, 15: 24, 16: 23, 17: 13, 18: 9, 19: 7, 20: 6, 21: 0, 22: 1, 23: 1, 24: 2, 25: 3, 26: 4, 27: 7, 28: 8, 29: 9, 30: 11, 31: 13, 32: 14, 33: 18, 34: 20, 35: 23, 36: 27, 37: 28, 38: 34, 39: 37, 40: 38, 41: 39, 42: 42, 43: 40, 44: 44, 45: 43, 46: 44, 47: 45, 48: 43, 49: 50, 50: 53, 51: 58, 52: 57, 53: 63, 54: 61, 55: 66, 56: 73, 57: 76, 58: 77, 59: 71, 60: 70, 61: 74, 62: 83, 63: 85, 64: 94, 65: 100, 66: 95, 67: 98, 68: 109, 69: 115, 70: 121, 71: 122, 72: 121, 73: 120, 74: 121, 75: 124, 76: 131, 77: 131, 78: 128, 79: 130, 80: 128, 81: 127, 82: 130, 83: 139, 84: 140, 85: 142, 86: 139, 87: 143, 88: 144, 89: 141, 90: 145, 91: 145, 92: 138, 93: 132, 94: 128, 95: 117, 96: 116, 97: 113, 98: 116, 99: 113, 100: 110}\n"
     ]
    }
   ],
   "source": [
    "ecas2 = zones2['Z2'].Ehr\n",
    "print ecas2"
   ]
  },
  {
   "cell_type": "code",
   "execution_count": 14,
   "metadata": {
    "collapsed": false
   },
   "outputs": [
    {
     "name": "stdout",
     "output_type": "stream",
     "text": [
      "{0: 0, 1: 0, 2: 15, 3: 14, 4: 11, 5: 21, 6: 13, 7: 15, 8: 23, 9: 15, 10: 9, 11: 18, 12: 0, 13: 0, 14: 0, 15: 0, 16: 0, 17: 0, 18: 0, 19: 0, 20: 1, 21: 0, 22: 0, 23: 2, 24: 0, 25: 3, 26: 3, 27: 0, 28: 2, 29: 3, 30: 2, 31: 2, 32: 3, 33: 2, 34: 6, 35: 8, 36: 2, 37: 6, 38: 6, 39: 7, 40: 7, 41: 8, 42: 6, 43: 8, 44: 11, 45: 7, 46: 8, 47: 15, 48: 11, 49: 13, 50: 7, 51: 12, 52: 10, 53: 10, 54: 8, 55: 17, 56: 12, 57: 13, 58: 15, 59: 6, 60: 12, 61: 14, 62: 10, 63: 10, 64: 12, 65: 20, 66: 19, 67: 13, 68: 21, 69: 13, 70: 12, 71: 11, 72: 15, 73: 10, 74: 9, 75: 7, 76: 15, 77: 12, 78: 12, 79: 11, 80: 8, 81: 20, 82: 6, 83: 14, 84: 16, 85: 6, 86: 10, 87: 8, 88: 13, 89: 10, 90: 11, 91: 8, 92: 4, 93: 11, 94: 11, 95: 14, 96: 11, 97: 6, 98: 4, 99: 6, 100: 9}\n"
     ]
    }
   ],
   "source": [
    "e0cas1 = zones1['Z2'].Eh0\n",
    "print e0cas1"
   ]
  },
  {
   "cell_type": "code",
   "execution_count": 15,
   "metadata": {
    "collapsed": false
   },
   "outputs": [
    {
     "name": "stdout",
     "output_type": "stream",
     "text": [
      "{0: 0, 1: 0, 2: 22, 3: 12, 4: 8, 5: 9, 6: 1, 7: 10, 8: 4, 9: 2, 10: 1, 11: 6, 12: 0, 13: 0, 14: 0, 15: 0, 16: 0, 17: 0, 18: 0, 19: 0, 20: 0, 21: 0, 22: 1, 23: 0, 24: 1, 25: 1, 26: 1, 27: 3, 28: 1, 29: 1, 30: 2, 31: 2, 32: 2, 33: 4, 34: 3, 35: 4, 36: 5, 37: 4, 38: 7, 39: 4, 40: 3, 41: 3, 42: 5, 43: 2, 44: 7, 45: 3, 46: 6, 47: 5, 48: 5, 49: 11, 50: 6, 51: 8, 52: 4, 53: 8, 54: 5, 55: 8, 56: 13, 57: 8, 58: 6, 59: 5, 60: 5, 61: 12, 62: 13, 63: 10, 64: 14, 65: 14, 66: 8, 67: 11, 68: 17, 69: 11, 70: 11, 71: 13, 72: 12, 73: 9, 74: 15, 75: 17, 76: 15, 77: 11, 78: 14, 79: 13, 80: 9, 81: 12, 82: 15, 83: 18, 84: 16, 85: 19, 86: 12, 87: 15, 88: 15, 89: 10, 90: 13, 91: 12, 92: 8, 93: 12, 94: 12, 95: 8, 96: 11, 97: 12, 98: 18, 99: 7, 100: 10}\n"
     ]
    }
   ],
   "source": [
    "e0cas2 = zones2['Z2'].Eh0\n",
    "print e0cas2"
   ]
  },
  {
   "cell_type": "code",
   "execution_count": 16,
   "metadata": {
    "collapsed": false
   },
   "outputs": [
    {
     "data": {
      "text/plain": [
       "69"
      ]
     },
     "execution_count": 16,
     "metadata": {},
     "output_type": "execute_result"
    }
   ],
   "source": [
    "e0 = e0cas2.values()[0:11]\n",
    "np.sum(e0)"
   ]
  },
  {
   "cell_type": "code",
   "execution_count": 17,
   "metadata": {
    "collapsed": false
   },
   "outputs": [
    {
     "data": {
      "text/plain": [
       "136"
      ]
     },
     "execution_count": 17,
     "metadata": {},
     "output_type": "execute_result"
    }
   ],
   "source": [
    "e0 = e0cas1.values()[0:11]\n",
    "np.sum(e0)"
   ]
  },
  {
   "cell_type": "code",
   "execution_count": null,
   "metadata": {
    "collapsed": true
   },
   "outputs": [],
   "source": [
    "plot_AllPropIH(zones1, rep1, tauxSejour)\n",
    "plot_AllPropEHr(zones1, rep1, tauxSejour)\n",
    "plot_AllPropE0(zones1, rep1, tauxSejour)"
   ]
  },
  {
   "cell_type": "code",
   "execution_count": null,
   "metadata": {
    "collapsed": true
   },
   "outputs": [],
   "source": [
    "plot_AllPropIH(zones2, rep2, tauxSejour)\n",
    "plot_AllPropEHr(zones2, rep2, tauxSejour)\n",
    "plot_AllPropE0(zones2, rep2, tauxSejour)"
   ]
  },
  {
   "cell_type": "code",
   "execution_count": null,
   "metadata": {
    "collapsed": true
   },
   "outputs": [],
   "source": [
    "cumul1 = np.sum(zones1['Z2'].Ehr.values())\n",
    "cumul2 = np.sum(zones2['Z2'].Ehr.values())\n",
    "\n",
    "print cumul1\n",
    "print cumul2"
   ]
  }
 ],
 "metadata": {
  "kernelspec": {
   "display_name": "Python 2",
   "language": "python",
   "name": "python2"
  },
  "language_info": {
   "codemirror_mode": {
    "name": "ipython",
    "version": 2
   },
   "file_extension": ".py",
   "mimetype": "text/x-python",
   "name": "python",
   "nbconvert_exporter": "python",
   "pygments_lexer": "ipython2",
   "version": "2.7.13"
  }
 },
 "nbformat": 4,
 "nbformat_minor": 2
}
