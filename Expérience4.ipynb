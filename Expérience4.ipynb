{
 "cells": [
  {
   "cell_type": "markdown",
   "metadata": {},
   "source": [
    "### Expérience 4 : \n",
    "Expérience 4 : Impact d'une campagne de sensibilisation auprès des personnes infectés} \\\\\n",
    "Supposons qu'après la démoustication de la zone de rencontre 500 personnes (toutes infectés) passent 0.4\\% de chaque nuit dans la zone de rencontre (présence de 200 pn). On fait varier le ratio de personnes protégées de 0\\% à 100\\% et on observe l'impact sur le taux de vecteurs infectés.\\\\\n",
    "\\textbf{Implémentation :}Rajouter 2 variable Inp et Rnp représentant les individus I et R non (ou pariellement) protégés qui doivent être pris en compte dans le calcul de la force d'infection humains-vecteurs $\\lambda_{HV}$. Les variables I et R sont conservée pour connaître l'effectif réel des individus selon leurs états.\n"
   ]
  },
  {
   "cell_type": "code",
   "execution_count": 2,
   "metadata": {
    "collapsed": true
   },
   "outputs": [],
   "source": [
    "import cPickle as pickle\n",
    "from Traces import lireTraces\n",
    "import matplotlib.pyplot as plt\n",
    "import numpy as np\n",
    "from PlotZone import *"
   ]
  },
  {
   "cell_type": "markdown",
   "metadata": {},
   "source": [
    "afficher le taux de vecteurs infectés en fonction du taux d'individus infectueux s'étant rendu dans la zone de rencontre après la démoustication"
   ]
  },
  {
   "cell_type": "code",
   "execution_count": 2,
   "metadata": {
    "collapsed": false
   },
   "outputs": [
    {
     "data": {
      "text/plain": [
       "<matplotlib.legend.Legend at 0x7f2b5d485e50>"
      ]
     },
     "execution_count": 2,
     "metadata": {},
     "output_type": "execute_result"
    }
   ],
   "source": [
    "%matplotlib qt\n",
    "#%matplotlib inline\n",
    "\n",
    "path2 = \"./Experience4/etape2/\"\n",
    "\n",
    "fig = plt.figure()\n",
    "labels = []\n",
    "for i in range(11):\n",
    "    fic2 = path2 + \"zone\"+str(i)+\".p\"\n",
    "    fh2 = open(fic2)\n",
    "    zone = pickle.load(fh2)\n",
    "    fh2.close()\n",
    "    \n",
    "    time = zone.Iv.keys()\n",
    "    Iv = zone.Iv.values()\n",
    "    nv = zone.Nv.values()\n",
    "    \n",
    "    taux = [float(iv)/n for iv, n in zip(Iv, nv)]\n",
    "    \n",
    "    plt.plot(time, taux)\n",
    "    titre = \"Ih protected = \"+str((10*i))+\"%\"\n",
    "    labels.append(titre)\n",
    "\n",
    "axes = plt.gca()\n",
    "'''\n",
    "axes.set_xlabel('time (days)')\n",
    "axes.set_ylabel('Infectious vector rate')\n",
    "'''\n",
    "axes.set_xlabel('Temps (jours)')\n",
    "axes.set_ylabel(u'Taux de vecteurs infectés')\n",
    "plt.legend(labels, loc = 'best')\n",
    "\n"
   ]
  },
  {
   "cell_type": "markdown",
   "metadata": {},
   "source": [
    "Nombre de vecteur en fonction du taux de Ih entrant dans la zone de rencontre"
   ]
  },
  {
   "cell_type": "code",
   "execution_count": 2,
   "metadata": {
    "collapsed": false
   },
   "outputs": [
    {
     "data": {
      "text/plain": [
       "<matplotlib.text.Text at 0x7f2890129d50>"
      ]
     },
     "execution_count": 2,
     "metadata": {},
     "output_type": "execute_result"
    }
   ],
   "source": [
    "%matplotlib qt\n",
    "#%matplotlib inline\n",
    "\n",
    "path2 = \"./Experience4/etape2/\"\n",
    "\n",
    "fig = plt.figure()\n",
    "labels = []\n",
    "colors = ['gray', 'firebrick', 'sienna', 'orange', 'olive', 'darkgreen', 'darkcyan', 'royalblue', 'blue', 'indigo', 'm']\n",
    "for i in range(11):\n",
    "    fic2 = path2 + \"zone\"+str(i)+\".p\"\n",
    "    fh2 = open(fic2)\n",
    "    zone = pickle.load(fh2)\n",
    "    fh2.close()\n",
    "    \n",
    "    time = zone.Iv.keys()\n",
    "    Iv = zone.Iv.values()\n",
    "    titre = \"Ih protected = \"+str((20*i))+\"pn.\"\n",
    "    plt.plot(time, Iv, color=colors[i], linewidth = 1.5)\n",
    "    \n",
    "    labels.append(titre)\n",
    "#leg = plt.legend(loc='best')\n",
    "plt.legend(labels, loc = 'best')\n",
    "axes = plt.gca()\n",
    "'''\n",
    "axes.set_xlabel('Time (days)')\n",
    "axes.set_ylabel('Number of infectious vectors')\n",
    "'''\n",
    "axes.set_xlabel('Temps (jours)')\n",
    "axes.set_ylabel(u'Nombre de vecteurs infectés')\n",
    "\n",
    "\n"
   ]
  },
  {
   "cell_type": "code",
   "execution_count": 6,
   "metadata": {
    "collapsed": false
   },
   "outputs": [
    {
     "data": {
      "text/plain": [
       "<matplotlib.legend.Legend at 0x7f5fc0045fd0>"
      ]
     },
     "execution_count": 6,
     "metadata": {},
     "output_type": "execute_result"
    }
   ],
   "source": [
    "%matplotlib qt\n",
    "#%matplotlib inline\n",
    "\n",
    "path2 = \"./Experience4/etape2/\"\n",
    "\n",
    "#pn = [0, 20, 40, 60, 80, 100, 120, 140, 160, 180, 200]\n",
    "rate = [0, 10, 20, 30, 40, 50, 60, 70, 80, 90, 100]\n",
    "taux = []\n",
    "\n",
    "fig = plt.figure()\n",
    "labels = []\n",
    "for i in range(11):\n",
    "    fic2 = path2 + \"zone\"+str(i)+\".p\"\n",
    "    fh2 = open(fic2)\n",
    "    zone = pickle.load(fh2)\n",
    "    fh2.close()\n",
    "    Iv = zone.Iv.values()[200]\n",
    "    Nv = zone.Nv.values()[200]\n",
    "    \n",
    "    taux.append(Iv/Nv)\n",
    "    \n",
    "    \n",
    "#plt.plot(pn, taux)\n",
    "plt.plot(rate, taux, linewidth=1.5)\n",
    "\n",
    "axes = plt.gca()\n",
    "'''\n",
    "axes.set_xlabel(u\"Personnes infectés protégés\")\n",
    "axes.set_ylabel(u'Taux de vecteurs infectés')\n",
    "'''\n",
    "axes.set_xlabel('Protected person rate')\n",
    "axes.set_ylabel('Infectious vector rate')\n",
    "\n",
    "plt.legend(labels, loc = 'best')\n",
    "\n"
   ]
  },
  {
   "cell_type": "code",
   "execution_count": null,
   "metadata": {
    "collapsed": true
   },
   "outputs": [],
   "source": []
  }
 ],
 "metadata": {
  "kernelspec": {
   "display_name": "Python 2",
   "language": "python",
   "name": "python2"
  },
  "language_info": {
   "codemirror_mode": {
    "name": "ipython",
    "version": 2
   },
   "file_extension": ".py",
   "mimetype": "text/x-python",
   "name": "python",
   "nbconvert_exporter": "python",
   "pygments_lexer": "ipython2",
   "version": "2.7.13"
  }
 },
 "nbformat": 4,
 "nbformat_minor": 2
}
