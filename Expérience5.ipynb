{
 "cells": [
  {
   "cell_type": "markdown",
   "metadata": {},
   "source": [
    "### Expérience 5 : \n",
    "Montrer que, selon la fréquentation, une épidémie peut provenir d'une zone de plus faible endémicité plutôt que celle à forte endémicité.\n",
    "mettre en évidence :\n",
    "- la faible efficacité d'une prévention basée seulement sur l'endémicité\n",
    "- le bénéfice de connaître les déplacements pour la prévention"
   ]
  },
  {
   "cell_type": "code",
   "execution_count": 2,
   "metadata": {
    "collapsed": false
   },
   "outputs": [],
   "source": [
    "import cPickle as pickle\n",
    "from Traces import lireTraces\n",
    "import matplotlib.pyplot as plt\n",
    "import numpy as np\n",
    "from PlotZone import *"
   ]
  },
  {
   "cell_type": "code",
   "execution_count": null,
   "metadata": {
    "collapsed": false
   },
   "outputs": [],
   "source": [
    "%matplotlib qt\n",
    "#%matplotlib inline\n",
    "\n",
    "path = \"./Experience5/\"\n",
    "\n",
    "fic = path + \"modele.p\"\n",
    "fh = open(fic)\n",
    "m = pickle.load(fh)\n",
    "fh.close()\n",
    "\n",
    "fic1 = path + \"modele_dem1.p\"\n",
    "fh1 = open(fic1)\n",
    "m1 = pickle.load(fh1)\n",
    "fh1.close()\n",
    "\n",
    "fic2 = path + \"modele_dem2.p\"\n",
    "fh2 = open(fic2)\n",
    "m2 = pickle.load(fh2)\n",
    "fh2.close()\n",
    "\n",
    "fic3 = path + \"modele_dem3.p\"\n",
    "fh3 = open(fic3)\n",
    "m3 = pickle.load(fh3)\n",
    "fh3.close()\n",
    "\n",
    "\n",
    "maxi = 0\n",
    "\n",
    "#on s'intéresse à la zone Z3\n",
    "zone = m.zones['Z3']\n",
    "zone1 = m1.zones['Z3']\n",
    "zone2 = m2.zones['Z3']\n",
    "zone3 = m3.zones['Z3']\n",
    "\n",
    "fig = plt.figure()\n",
    "labels = []\n",
    "\n",
    "time = zone.Ehr.keys()\n",
    "\n",
    "titre = u\"sans démoustication\"\n",
    "#titre = \"Without mosquito eradication\"\n",
    "plt.plot(time, zone.Ehr.values(), label = titre, linewidth = 1.5)\n",
    "maxi = max(maxi, max(zone.Ehr.values()) )\n",
    "\n",
    "titre = u\"démoustication à t=12 de Z1 (K=0.7)\"\n",
    "#titre = \"Mosquito eradication of Z1 (K=0.7)\"\n",
    "plt.plot(time, zone1.Ehr.values(), label = titre, linewidth = 1.5)\n",
    "maxi = max(maxi, max(zone1.Ehr.values()) )\n",
    "\n",
    "titre = u\"démoustication à t=12 de Z2 (K=0.5)\"\n",
    "#titre = \"Mosquito eradication of Z2 (K=0.5)\"\n",
    "plt.plot(time, zone2.Ehr.values(), label = titre, linewidth = 1.5)\n",
    "maxi = max(maxi, max(zone2.Ehr.values()) )\n",
    "\n",
    "titre = u\"démoustication à t=12 de Z3 (K=0.3)\"\n",
    "#titre = \"Mosquito eradication of Z3 (K=0.3)\"\n",
    "plt.plot(time, zone3.Ehr.values(), label = titre, linewidth = 1.5)\n",
    "maxi = max(maxi, max(zone.Ehr.values()) )\n",
    "\n",
    "axes = plt.gca()\n",
    "\n",
    "axes.set_xlabel('Temps (jours)')\n",
    "axes.set_ylabel(u'Nombre de personnes exposés')\n",
    "'''\n",
    "axes.set_xlabel('Time (day)')\n",
    "axes.set_ylabel('Number of  exposed people')\n",
    "'''\n",
    "\n",
    "plt.legend(loc = 'best')\n",
    "\n",
    "\n",
    "fig = plt.figure()\n",
    "labels = []\n",
    "\n",
    "time = zone.Ehr.keys()\n",
    "\n",
    "titre = u\"sans démoustication\"\n",
    "plt.plot(time, zone.Nv.values(), label = titre, linewidth = 1.5)\n",
    "\n",
    "titre = u\"démoustication à t=12 de Z1 (K=0.7)\"\n",
    "plt.plot(time, zone1.Nv.values(), label = titre, linewidth = 1.5)\n",
    "\n",
    "titre = u\"démoustication à t=12 de Z2 (K=0.5)\"\n",
    "plt.plot(time, zone2.Nv.values(), label = titre, linewidth = 1.5)\n",
    "\n",
    "titre = u\"démoustication à t=12 de Z3 (K=0.3)\"\n",
    "plt.plot(time, zone3.Nv.values(), label = titre, linewidth = 1.5)\n",
    "\n",
    "#plt.plot([12, 12], [0, maxi], color='black')\n",
    "\n",
    "axes = plt.gca()\n",
    "axes.set_xlabel('Temps (jours)')\n",
    "axes.set_ylabel(u'Nombre de vecteurs infectés')\n",
    "plt.legend(loc = 'best')"
   ]
  },
  {
   "cell_type": "code",
   "execution_count": null,
   "metadata": {
    "collapsed": false
   },
   "outputs": [],
   "source": [
    "z = m.zones['Z3']\n",
    "z1 = m1.zones['Z3']\n",
    "z2 = m2.zones['Z3']\n",
    "z3 = m3.zones['Z3']"
   ]
  },
  {
   "cell_type": "markdown",
   "metadata": {},
   "source": [
    "## nouveaux exposés"
   ]
  },
  {
   "cell_type": "code",
   "execution_count": 7,
   "metadata": {
    "collapsed": false
   },
   "outputs": [
    {
     "data": {
      "text/plain": [
       "<matplotlib.legend.Legend at 0x7f669a319b10>"
      ]
     },
     "execution_count": 7,
     "metadata": {},
     "output_type": "execute_result"
    }
   ],
   "source": [
    "%matplotlib qt\n",
    "#%matplotlib inline\n",
    "\n",
    "path = \"./Experience5/\"\n",
    "\n",
    "fic = path + \"modele.p\"\n",
    "fh = open(fic)\n",
    "m = pickle.load(fh)\n",
    "fh.close()\n",
    "\n",
    "fic1 = path + \"modele_dem1.p\"\n",
    "fh1 = open(fic1)\n",
    "m1 = pickle.load(fh1)\n",
    "fh1.close()\n",
    "\n",
    "fic2 = path + \"modele_dem2.p\"\n",
    "fh2 = open(fic2)\n",
    "m2 = pickle.load(fh2)\n",
    "fh2.close()\n",
    "\n",
    "fic3 = path + \"modele_dem3.p\"\n",
    "fh3 = open(fic3)\n",
    "m3 = pickle.load(fh3)\n",
    "fh3.close()\n",
    "\n",
    "\n",
    "maxi = 0\n",
    "\n",
    "#on s'intéresse à la zone Z3\n",
    "zone = m.zones['Z3']\n",
    "zone1 = m1.zones['Z3']\n",
    "zone2 = m2.zones['Z3']\n",
    "zone3 = m3.zones['Z3']\n",
    "\n",
    "fig = plt.figure()\n",
    "labels = []\n",
    "\n",
    "time = zone.Ehr.keys()\n",
    "\n",
    "#titre = u\"sans démoustication\"\n",
    "titre = \"Without mosquito eradication\"\n",
    "plt.plot(time, zone.Eh0.values(), label = titre, linewidth = 1.5)\n",
    "maxi = max(maxi, max(zone.Ehr.values()) )\n",
    "\n",
    "#titre = u\"démoustication à t=12 de Z1 (K=0.7)\"\n",
    "titre = \"Mosquito eradication of Z1 (K=0.7)\"\n",
    "plt.plot(time, zone1.Eh0.values(), label = titre, linewidth = 1.5)\n",
    "maxi = max(maxi, max(zone1.Ehr.values()) )\n",
    "\n",
    "#titre = u\"démoustication à t=12 de Z2 (K=0.5)\"\n",
    "titre = \"Mosquito eradication of Z2 (K=0.5)\"\n",
    "plt.plot(time, zone2.Eh0.values(), label = titre, linewidth = 1.5)\n",
    "maxi = max(maxi, max(zone2.Ehr.values()) )\n",
    "\n",
    "#titre = u\"démoustication à t=12 de Z3 (K=0.3)\"\n",
    "titre = \"Mosquito eradication of Z3 (K=0.3)\"\n",
    "plt.plot(time, zone3.Eh0.values(), label = titre, linewidth = 1.5)\n",
    "maxi = max(maxi, max(zone.Ehr.values()) )\n",
    "\n",
    "axes = plt.gca()\n",
    "\n",
    "'''\n",
    "axes.set_xlabel('Temps (jours)')\n",
    "axes.set_ylabel(u'Nombre de personnes exposés')\n",
    "'''\n",
    "axes.set_xlabel('Time (day)')\n",
    "axes.set_ylabel('Number of new exposed people')\n",
    "\n",
    "\n",
    "plt.legend(loc = 'best')\n",
    "\n",
    "\n",
    "fig = plt.figure()\n",
    "labels = []\n",
    "\n",
    "time = zone.Ehr.keys()\n",
    "\n",
    "titre = u\"sans démoustication\"\n",
    "plt.plot(time, zone.Nv.values(), label = titre, linewidth = 1.5)\n",
    "\n",
    "titre = u\"démoustication à t=12 de Z1 (K=0.7)\"\n",
    "plt.plot(time, zone1.Nv.values(), label = titre, linewidth = 1.5)\n",
    "\n",
    "titre = u\"démoustication à t=12 de Z2 (K=0.5)\"\n",
    "plt.plot(time, zone2.Nv.values(), label = titre, linewidth = 1.5)\n",
    "\n",
    "titre = u\"démoustication à t=12 de Z3 (K=0.3)\"\n",
    "plt.plot(time, zone3.Nv.values(), label = titre, linewidth = 1.5)\n",
    "\n",
    "#plt.plot([12, 12], [0, maxi], color='black')\n",
    "\n",
    "axes = plt.gca()\n",
    "axes.set_xlabel('Temps (jours)')\n",
    "axes.set_ylabel(u'Nombre de vecteurs infectés')\n",
    "plt.legend(loc = 'best')"
   ]
  },
  {
   "cell_type": "markdown",
   "metadata": {
    "collapsed": true
   },
   "source": [
    "## histo E0"
   ]
  },
  {
   "cell_type": "code",
   "execution_count": 3,
   "metadata": {
    "collapsed": false
   },
   "outputs": [
    {
     "data": {
      "text/plain": [
       "[458, 443, 371, 425]"
      ]
     },
     "execution_count": 3,
     "metadata": {},
     "output_type": "execute_result"
    }
   ],
   "source": [
    "h = zone.Eh0.values()[12:73]\n",
    "h1 = zone1.Eh0.values()[12:73]\n",
    "h2 = zone2.Eh0.values()[12:73]\n",
    "h3 = zone3.Eh0.values()[12:73]\n",
    "\n",
    "cumulE0 = [np.sum(h), np.sum(h1), np.sum(h2), np.sum(h3)]\n",
    "cumulE0"
   ]
  },
  {
   "cell_type": "code",
   "execution_count": 32,
   "metadata": {
    "collapsed": false
   },
   "outputs": [],
   "source": [
    "import matplotlib.pyplot as plt\n",
    "%matplotlib qt\n",
    "#import plotly.plotly as py\n",
    "\n",
    "strategy = ['No control', 'Z1 control', 'Z2 control', 'Z3 control']\n",
    "\n",
    "N = len(cumulE0)\n",
    "index = range(N)\n",
    "#fig, ax = plt.subplots()\n",
    "\n",
    "bar_width = 0.5\n",
    "\n",
    "plt.bar(index, cumulE0,  bar_width, color = ('b', 'g', 'r', 'c'))\n",
    "\n",
    "plt.xlabel(u\"control strategies\")\n",
    "plt.ylabel(u\"cumulative number of exposed\")\n",
    "#plt.title(u\"Comparaison du nombre d'exposés générés par zone avec et sans déplacements\")\n",
    "\n",
    "affichage = []\n",
    "for i in index :\n",
    "    affichage.append(i+bar_width/2)\n",
    "plt.xticks(affichage, strategy)\n",
    "plt.show()\n",
    "plt.legend()"
   ]
  },
  {
   "cell_type": "code",
   "execution_count": 30,
   "metadata": {
    "collapsed": false
   },
   "outputs": [
    {
     "name": "stdout",
     "output_type": "stream",
     "text": [
      "458\n",
      "443\n",
      "371\n",
      "425\n"
     ]
    }
   ],
   "source": [
    "s = np.sum(zone.Eh0.values()[12:73])\n",
    "print s\n",
    "\n",
    "s1 = np.sum(zone1.Eh0.values()[12:73])\n",
    "print s1\n",
    "\n",
    "s2 = np.sum(zone2.Eh0.values()[12:73])\n",
    "print s2\n",
    "\n",
    "s3 = np.sum(zone3.Eh0.values()[12:73])\n",
    "print s3"
   ]
  },
  {
   "cell_type": "code",
   "execution_count": 31,
   "metadata": {
    "collapsed": false
   },
   "outputs": [
    {
     "name": "stdout",
     "output_type": "stream",
     "text": [
      "4573\n",
      "4303\n",
      "3459\n",
      "4234\n"
     ]
    }
   ],
   "source": [
    "s = np.sum(zone.Ehr.values()[12:73])\n",
    "print s\n",
    "\n",
    "s1 = np.sum(zone1.Ehr.values()[12:73])\n",
    "print s1\n",
    "\n",
    "s2 = np.sum(zone2.Ehr.values()[12:73])\n",
    "print s2\n",
    "\n",
    "s3 = np.sum(zone3.Ehr.values()[12:73])\n",
    "print s3"
   ]
  },
  {
   "cell_type": "code",
   "execution_count": null,
   "metadata": {
    "collapsed": true
   },
   "outputs": [],
   "source": []
  },
  {
   "cell_type": "code",
   "execution_count": null,
   "metadata": {
    "collapsed": true
   },
   "outputs": [],
   "source": []
  }
 ],
 "metadata": {
  "kernelspec": {
   "display_name": "Python 2",
   "language": "python",
   "name": "python2"
  },
  "language_info": {
   "codemirror_mode": {
    "name": "ipython",
    "version": 2
   },
   "file_extension": ".py",
   "mimetype": "text/x-python",
   "name": "python",
   "nbconvert_exporter": "python",
   "pygments_lexer": "ipython2",
   "version": "2.7.13"
  }
 },
 "nbformat": 4,
 "nbformat_minor": 2
}
